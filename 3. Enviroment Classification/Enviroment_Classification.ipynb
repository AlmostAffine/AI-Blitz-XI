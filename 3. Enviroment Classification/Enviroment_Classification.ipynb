{
  "nbformat": 4,
  "nbformat_minor": 0,
  "metadata": {
    "accelerator": "GPU",
    "colab": {
      "name": "BlitzXI_ResNet50_Kmeans_Cluster.ipynb",
      "provenance": [],
      "collapsed_sections": []
    },
    "kernelspec": {
      "display_name": "Python 3",
      "language": "python",
      "name": "python3"
    },
    "language_info": {
      "codemirror_mode": {
        "name": "ipython",
        "version": 3
      },
      "file_extension": ".py",
      "mimetype": "text/x-python",
      "name": "python",
      "nbconvert_exporter": "python",
      "pygments_lexer": "ipython3",
      "version": "3.8.8"
    },
    "widgets": {
      "application/vnd.jupyter.widget-state+json": {
        "6a23ac140d9645379032ce70eca8f7e3": {
          "model_module": "@jupyter-widgets/controls",
          "model_name": "HBoxModel",
          "model_module_version": "1.5.0",
          "state": {
            "_view_name": "HBoxView",
            "_dom_classes": [],
            "_model_name": "HBoxModel",
            "_view_module": "@jupyter-widgets/controls",
            "_model_module_version": "1.5.0",
            "_view_count": null,
            "_view_module_version": "1.5.0",
            "box_style": "",
            "layout": "IPY_MODEL_a62fa59976404cceab6692d421322b77",
            "_model_module": "@jupyter-widgets/controls",
            "children": [
              "IPY_MODEL_4f21c53a13c648b588527bca535618a7",
              "IPY_MODEL_02e1152b1ee247459794867fef3e923d",
              "IPY_MODEL_41aa09017db74b868fe6d5987f975c74"
            ]
          }
        },
        "a62fa59976404cceab6692d421322b77": {
          "model_module": "@jupyter-widgets/base",
          "model_name": "LayoutModel",
          "model_module_version": "1.2.0",
          "state": {
            "_view_name": "LayoutView",
            "grid_template_rows": null,
            "right": null,
            "justify_content": null,
            "_view_module": "@jupyter-widgets/base",
            "overflow": null,
            "_model_module_version": "1.2.0",
            "_view_count": null,
            "flex_flow": null,
            "width": null,
            "min_width": null,
            "border": null,
            "align_items": null,
            "bottom": null,
            "_model_module": "@jupyter-widgets/base",
            "top": null,
            "grid_column": null,
            "overflow_y": null,
            "overflow_x": null,
            "grid_auto_flow": null,
            "grid_area": null,
            "grid_template_columns": null,
            "flex": null,
            "_model_name": "LayoutModel",
            "justify_items": null,
            "grid_row": null,
            "max_height": null,
            "align_content": null,
            "visibility": null,
            "align_self": null,
            "height": null,
            "min_height": null,
            "padding": null,
            "grid_auto_rows": null,
            "grid_gap": null,
            "max_width": null,
            "order": null,
            "_view_module_version": "1.2.0",
            "grid_template_areas": null,
            "object_position": null,
            "object_fit": null,
            "grid_auto_columns": null,
            "margin": null,
            "display": null,
            "left": null
          }
        },
        "4f21c53a13c648b588527bca535618a7": {
          "model_module": "@jupyter-widgets/controls",
          "model_name": "HTMLModel",
          "model_module_version": "1.5.0",
          "state": {
            "_view_name": "HTMLView",
            "style": "IPY_MODEL_51f0d2d2684f49b6800e8076512f3e83",
            "_dom_classes": [],
            "description": "",
            "_model_name": "HTMLModel",
            "placeholder": "​",
            "_view_module": "@jupyter-widgets/controls",
            "_model_module_version": "1.5.0",
            "value": "images.zip: 100%",
            "_view_count": null,
            "_view_module_version": "1.5.0",
            "description_tooltip": null,
            "_model_module": "@jupyter-widgets/controls",
            "layout": "IPY_MODEL_507f00b000a44bfc95a05332b730b8b4"
          }
        },
        "02e1152b1ee247459794867fef3e923d": {
          "model_module": "@jupyter-widgets/controls",
          "model_name": "FloatProgressModel",
          "model_module_version": "1.5.0",
          "state": {
            "_view_name": "ProgressView",
            "style": "IPY_MODEL_d5e557a53b214299b9a9cad2c23ff79e",
            "_dom_classes": [],
            "description": "",
            "_model_name": "FloatProgressModel",
            "bar_style": "success",
            "max": 22814963,
            "_view_module": "@jupyter-widgets/controls",
            "_model_module_version": "1.5.0",
            "value": 22814963,
            "_view_count": null,
            "_view_module_version": "1.5.0",
            "orientation": "horizontal",
            "min": 0,
            "description_tooltip": null,
            "_model_module": "@jupyter-widgets/controls",
            "layout": "IPY_MODEL_10cee85a33e94540853539036c4464e6"
          }
        },
        "41aa09017db74b868fe6d5987f975c74": {
          "model_module": "@jupyter-widgets/controls",
          "model_name": "HTMLModel",
          "model_module_version": "1.5.0",
          "state": {
            "_view_name": "HTMLView",
            "style": "IPY_MODEL_d3c243bad53643039569276cf3b2e021",
            "_dom_classes": [],
            "description": "",
            "_model_name": "HTMLModel",
            "placeholder": "​",
            "_view_module": "@jupyter-widgets/controls",
            "_model_module_version": "1.5.0",
            "value": " 22.8M/22.8M [00:02&lt;00:00, 7.86MB/s]",
            "_view_count": null,
            "_view_module_version": "1.5.0",
            "description_tooltip": null,
            "_model_module": "@jupyter-widgets/controls",
            "layout": "IPY_MODEL_65d6f6980c614802a4c32ff8de71966f"
          }
        },
        "51f0d2d2684f49b6800e8076512f3e83": {
          "model_module": "@jupyter-widgets/controls",
          "model_name": "DescriptionStyleModel",
          "model_module_version": "1.5.0",
          "state": {
            "_view_name": "StyleView",
            "_model_name": "DescriptionStyleModel",
            "description_width": "",
            "_view_module": "@jupyter-widgets/base",
            "_model_module_version": "1.5.0",
            "_view_count": null,
            "_view_module_version": "1.2.0",
            "_model_module": "@jupyter-widgets/controls"
          }
        },
        "507f00b000a44bfc95a05332b730b8b4": {
          "model_module": "@jupyter-widgets/base",
          "model_name": "LayoutModel",
          "model_module_version": "1.2.0",
          "state": {
            "_view_name": "LayoutView",
            "grid_template_rows": null,
            "right": null,
            "justify_content": null,
            "_view_module": "@jupyter-widgets/base",
            "overflow": null,
            "_model_module_version": "1.2.0",
            "_view_count": null,
            "flex_flow": null,
            "width": null,
            "min_width": null,
            "border": null,
            "align_items": null,
            "bottom": null,
            "_model_module": "@jupyter-widgets/base",
            "top": null,
            "grid_column": null,
            "overflow_y": null,
            "overflow_x": null,
            "grid_auto_flow": null,
            "grid_area": null,
            "grid_template_columns": null,
            "flex": null,
            "_model_name": "LayoutModel",
            "justify_items": null,
            "grid_row": null,
            "max_height": null,
            "align_content": null,
            "visibility": null,
            "align_self": null,
            "height": null,
            "min_height": null,
            "padding": null,
            "grid_auto_rows": null,
            "grid_gap": null,
            "max_width": null,
            "order": null,
            "_view_module_version": "1.2.0",
            "grid_template_areas": null,
            "object_position": null,
            "object_fit": null,
            "grid_auto_columns": null,
            "margin": null,
            "display": null,
            "left": null
          }
        },
        "d5e557a53b214299b9a9cad2c23ff79e": {
          "model_module": "@jupyter-widgets/controls",
          "model_name": "ProgressStyleModel",
          "model_module_version": "1.5.0",
          "state": {
            "_view_name": "StyleView",
            "_model_name": "ProgressStyleModel",
            "description_width": "",
            "_view_module": "@jupyter-widgets/base",
            "_model_module_version": "1.5.0",
            "_view_count": null,
            "_view_module_version": "1.2.0",
            "bar_color": null,
            "_model_module": "@jupyter-widgets/controls"
          }
        },
        "10cee85a33e94540853539036c4464e6": {
          "model_module": "@jupyter-widgets/base",
          "model_name": "LayoutModel",
          "model_module_version": "1.2.0",
          "state": {
            "_view_name": "LayoutView",
            "grid_template_rows": null,
            "right": null,
            "justify_content": null,
            "_view_module": "@jupyter-widgets/base",
            "overflow": null,
            "_model_module_version": "1.2.0",
            "_view_count": null,
            "flex_flow": null,
            "width": null,
            "min_width": null,
            "border": null,
            "align_items": null,
            "bottom": null,
            "_model_module": "@jupyter-widgets/base",
            "top": null,
            "grid_column": null,
            "overflow_y": null,
            "overflow_x": null,
            "grid_auto_flow": null,
            "grid_area": null,
            "grid_template_columns": null,
            "flex": null,
            "_model_name": "LayoutModel",
            "justify_items": null,
            "grid_row": null,
            "max_height": null,
            "align_content": null,
            "visibility": null,
            "align_self": null,
            "height": null,
            "min_height": null,
            "padding": null,
            "grid_auto_rows": null,
            "grid_gap": null,
            "max_width": null,
            "order": null,
            "_view_module_version": "1.2.0",
            "grid_template_areas": null,
            "object_position": null,
            "object_fit": null,
            "grid_auto_columns": null,
            "margin": null,
            "display": null,
            "left": null
          }
        },
        "d3c243bad53643039569276cf3b2e021": {
          "model_module": "@jupyter-widgets/controls",
          "model_name": "DescriptionStyleModel",
          "model_module_version": "1.5.0",
          "state": {
            "_view_name": "StyleView",
            "_model_name": "DescriptionStyleModel",
            "description_width": "",
            "_view_module": "@jupyter-widgets/base",
            "_model_module_version": "1.5.0",
            "_view_count": null,
            "_view_module_version": "1.2.0",
            "_model_module": "@jupyter-widgets/controls"
          }
        },
        "65d6f6980c614802a4c32ff8de71966f": {
          "model_module": "@jupyter-widgets/base",
          "model_name": "LayoutModel",
          "model_module_version": "1.2.0",
          "state": {
            "_view_name": "LayoutView",
            "grid_template_rows": null,
            "right": null,
            "justify_content": null,
            "_view_module": "@jupyter-widgets/base",
            "overflow": null,
            "_model_module_version": "1.2.0",
            "_view_count": null,
            "flex_flow": null,
            "width": null,
            "min_width": null,
            "border": null,
            "align_items": null,
            "bottom": null,
            "_model_module": "@jupyter-widgets/base",
            "top": null,
            "grid_column": null,
            "overflow_y": null,
            "overflow_x": null,
            "grid_auto_flow": null,
            "grid_area": null,
            "grid_template_columns": null,
            "flex": null,
            "_model_name": "LayoutModel",
            "justify_items": null,
            "grid_row": null,
            "max_height": null,
            "align_content": null,
            "visibility": null,
            "align_self": null,
            "height": null,
            "min_height": null,
            "padding": null,
            "grid_auto_rows": null,
            "grid_gap": null,
            "max_width": null,
            "order": null,
            "_view_module_version": "1.2.0",
            "grid_template_areas": null,
            "object_position": null,
            "object_fit": null,
            "grid_auto_columns": null,
            "margin": null,
            "display": null,
            "left": null
          }
        }
      }
    }
  },
  "cells": [
    {
      "cell_type": "markdown",
      "metadata": {
        "id": "9m1TWlM64Uiw"
      },
      "source": [
        "\n",
        "\n",
        "![](https://images.aicrowd.com/raw_images/challenges/banner_file/897/b4a0766bb1ef4b621e3a.jpg)\n",
        "\n"
      ]
    },
    {
      "cell_type": "markdown",
      "metadata": {
        "id": "fMcuqvlPkCXB"
      },
      "source": [
        "# 0. Installing aircrowd-cli and downloading Datas\n"
      ]
    },
    {
      "cell_type": "code",
      "metadata": {
        "id": "BpCNmGBxkCXF"
      },
      "source": [
        "!pip install -q aicrowd-cli\n",
        "%load_ext aicrowd.magic"
      ],
      "execution_count": null,
      "outputs": []
    },
    {
      "cell_type": "code",
      "metadata": {
        "colab": {
          "base_uri": "https://localhost:8080/"
        },
        "id": "XWDSMO9MkCXf",
        "outputId": "a427ab10-9e64-48dc-91cd-f0dee6236359"
      },
      "source": [
        "%aicrowd login"
      ],
      "execution_count": null,
      "outputs": [
        {
          "output_type": "stream",
          "name": "stdout",
          "text": [
            "Please login here: \u001b[34m\u001b[1m\u001b[4mhttps://api.aicrowd.com/auth/qBNvIq0YzlT6GTsihXKlzHlxe7hIACPEFHrs6maKIgQ\u001b[0m\n",
            "\u001b[32mAPI Key valid\u001b[0m\n",
            "\u001b[32mSaved API Key successfully!\u001b[0m\n"
          ]
        }
      ]
    },
    {
      "cell_type": "code",
      "metadata": {
        "colab": {
          "base_uri": "https://localhost:8080/",
          "height": 49,
          "referenced_widgets": [
            "6a23ac140d9645379032ce70eca8f7e3",
            "a62fa59976404cceab6692d421322b77",
            "4f21c53a13c648b588527bca535618a7",
            "02e1152b1ee247459794867fef3e923d",
            "41aa09017db74b868fe6d5987f975c74",
            "51f0d2d2684f49b6800e8076512f3e83",
            "507f00b000a44bfc95a05332b730b8b4",
            "d5e557a53b214299b9a9cad2c23ff79e",
            "10cee85a33e94540853539036c4464e6",
            "d3c243bad53643039569276cf3b2e021",
            "65d6f6980c614802a4c32ff8de71966f"
          ]
        },
        "id": "roDPOL1Q4jDQ",
        "outputId": "15bb5ced-a9b1-48d7-b6ba-62175010b8a1"
      },
      "source": [
        "# Downloading the Dataset\n",
        "!rm -rf data\n",
        "!mkdir data\n",
        "%aicrowd ds dl -c environment-classification -o data"
      ],
      "execution_count": null,
      "outputs": [
        {
          "output_type": "display_data",
          "data": {
            "application/vnd.jupyter.widget-view+json": {
              "model_id": "6a23ac140d9645379032ce70eca8f7e3",
              "version_minor": 0,
              "version_major": 2
            },
            "text/plain": [
              "images.zip:   0%|          | 0.00/22.8M [00:00<?, ?B/s]"
            ]
          },
          "metadata": {}
        }
      ]
    },
    {
      "cell_type": "code",
      "metadata": {
        "id": "9cuHcLpUkCXy"
      },
      "source": [
        "# Unzipping and Organising the datasets\n",
        "!unzip data/images.zip  -d data/images > /dev/null"
      ],
      "execution_count": null,
      "outputs": []
    },
    {
      "cell_type": "markdown",
      "metadata": {
        "id": "48QIsG9wA6KC"
      },
      "source": [
        "# 1. Importing Libraries"
      ]
    },
    {
      "cell_type": "code",
      "metadata": {
        "id": "YDCI9dOhkCX-"
      },
      "source": [
        "import os\n",
        "import csv \n",
        "from pathlib import Path\n",
        "import random\n",
        "import time\n",
        "\n",
        "import pandas as pd\n",
        "import numpy as np"
      ],
      "execution_count": null,
      "outputs": []
    },
    {
      "cell_type": "code",
      "metadata": {
        "id": "ydJLc-A-kCYS"
      },
      "source": [
        "DATA_DIR = \"data/images/\""
      ],
      "execution_count": null,
      "outputs": []
    },
    {
      "cell_type": "markdown",
      "metadata": {
        "id": "lLNhh_fvkCYu"
      },
      "source": [
        "# 2. Modeling\n",
        "### First we download ResNet50 "
      ]
    },
    {
      "cell_type": "code",
      "metadata": {
        "colab": {
          "base_uri": "https://localhost:8080/"
        },
        "id": "gJ6kOSC8kCYw",
        "outputId": "256640fe-569a-4b25-a6f6-447dc3dbefcf"
      },
      "source": [
        "from tensorflow.keras.applications.resnet50 import ResNet50\n",
        "from tensorflow.keras.models import Sequential\n",
        "\n",
        "resnet = ResNet50(include_top=False, pooling='avg', weights='imagenet')\n",
        "my_new_model = Sequential()\n",
        "my_new_model.add(resnet)"
      ],
      "execution_count": null,
      "outputs": [
        {
          "output_type": "stream",
          "name": "stdout",
          "text": [
            "Downloading data from https://storage.googleapis.com/tensorflow/keras-applications/resnet/resnet50_weights_tf_dim_ordering_tf_kernels_notop.h5\n",
            "94773248/94765736 [==============================] - 1s 0us/step\n",
            "94781440/94765736 [==============================] - 1s 0us/step\n"
          ]
        }
      ]
    },
    {
      "cell_type": "code",
      "metadata": {
        "id": "mFf3M486kCZP"
      },
      "source": [
        "# Say not to train first layer (ResNet) model. It is already trained\n",
        "my_new_model.layers[0].trainable = False"
      ],
      "execution_count": null,
      "outputs": []
    },
    {
      "cell_type": "markdown",
      "metadata": {
        "id": "hX0nwiz5kCZY"
      },
      "source": [
        "### Now we get 2048 dimentional feature vector for each image by applying ResNet50 trained on Imagenet"
      ]
    },
    {
      "cell_type": "code",
      "metadata": {
        "colab": {
          "base_uri": "https://localhost:8080/"
        },
        "id": "AzvsniHfkCZa",
        "scrolled": true,
        "outputId": "b1c702e1-7dfb-44a1-99ec-7d991b3b5643"
      },
      "source": [
        "%%time\n",
        "from tensorflow.keras.applications.resnet50 import preprocess_input\n",
        "import cv2 \n",
        "import numpy as np\n",
        "\n",
        "resnet_feature_list = []\n",
        "images = [f for f in os.listdir(DATA_DIR)]\n",
        "for image in images:\n",
        "    file = DATA_DIR+image\n",
        "    im = cv2.imread(file)\n",
        "    #im = cv2.resize(im,(256,256))\n",
        "    img = preprocess_input(np.expand_dims(im.copy(), axis=0))\n",
        "    resnet_feature = my_new_model.predict(img)\n",
        "    resnet_feature_np = np.array(resnet_feature)\n",
        "    resnet_feature_list.append(resnet_feature_np.flatten())\n",
        "\n",
        "array = np.array(resnet_feature_list)"
      ],
      "execution_count": null,
      "outputs": [
        {
          "output_type": "stream",
          "name": "stdout",
          "text": [
            "CPU times: user 1min 13s, sys: 2.45 s, total: 1min 15s\n",
            "Wall time: 1min 39s\n"
          ]
        }
      ]
    },
    {
      "cell_type": "code",
      "metadata": {
        "colab": {
          "base_uri": "https://localhost:8080/"
        },
        "id": "7FOUM6GSkCZo",
        "outputId": "e742ecec-1808-48cc-be15-1a26c192e691"
      },
      "source": [
        "array.shape"
      ],
      "execution_count": null,
      "outputs": [
        {
          "output_type": "execute_result",
          "data": {
            "text/plain": [
              "(700, 2048)"
            ]
          },
          "metadata": {},
          "execution_count": 10
        }
      ]
    },
    {
      "cell_type": "markdown",
      "metadata": {
        "id": "AftFNMMhkCZ0"
      },
      "source": [
        "### Now we apply standart kMeans algorithm to separate these vectors into 5 clusters"
      ]
    },
    {
      "cell_type": "code",
      "metadata": {
        "id": "jATO7hTckCZ2"
      },
      "source": [
        "from sklearn.cluster import KMeans \n",
        "\n",
        "kmeans = KMeans(n_clusters=5, random_state=None, n_init=50, max_iter=1000).fit(array)\n"
      ],
      "execution_count": null,
      "outputs": []
    },
    {
      "cell_type": "markdown",
      "metadata": {
        "id": "d-n2mxfakCaE"
      },
      "source": [
        "### This is an unsupervised learning problem so we investigate the results manually"
      ]
    },
    {
      "cell_type": "code",
      "metadata": {
        "colab": {
          "base_uri": "https://localhost:8080/",
          "height": 417
        },
        "id": "7F54XM6ykCaG",
        "outputId": "d5e5379c-09b5-4fdd-999d-34be4f7856fb"
      },
      "source": [
        "img_ids_list = [f[:-4] for f in images]\n",
        "\n",
        "pre_sub = {'ImageID':img_ids_list, \"label\":kmeans.labels_}\n",
        "pre_sub = pd.DataFrame(pre_sub)\n",
        "\n",
        "pre_sub = pre_sub.astype(int)\n",
        "pre_sub = pre_sub.sort_values(by=['ImageID'])  \n",
        "\n",
        "pre_sub"
      ],
      "execution_count": null,
      "outputs": [
        {
          "output_type": "execute_result",
          "data": {
            "text/html": [
              "<div>\n",
              "<style scoped>\n",
              "    .dataframe tbody tr th:only-of-type {\n",
              "        vertical-align: middle;\n",
              "    }\n",
              "\n",
              "    .dataframe tbody tr th {\n",
              "        vertical-align: top;\n",
              "    }\n",
              "\n",
              "    .dataframe thead th {\n",
              "        text-align: right;\n",
              "    }\n",
              "</style>\n",
              "<table border=\"1\" class=\"dataframe\">\n",
              "  <thead>\n",
              "    <tr style=\"text-align: right;\">\n",
              "      <th></th>\n",
              "      <th>ImageID</th>\n",
              "      <th>label</th>\n",
              "    </tr>\n",
              "  </thead>\n",
              "  <tbody>\n",
              "    <tr>\n",
              "      <th>160</th>\n",
              "      <td>0</td>\n",
              "      <td>2</td>\n",
              "    </tr>\n",
              "    <tr>\n",
              "      <th>127</th>\n",
              "      <td>1</td>\n",
              "      <td>4</td>\n",
              "    </tr>\n",
              "    <tr>\n",
              "      <th>410</th>\n",
              "      <td>2</td>\n",
              "      <td>4</td>\n",
              "    </tr>\n",
              "    <tr>\n",
              "      <th>484</th>\n",
              "      <td>3</td>\n",
              "      <td>3</td>\n",
              "    </tr>\n",
              "    <tr>\n",
              "      <th>324</th>\n",
              "      <td>4</td>\n",
              "      <td>2</td>\n",
              "    </tr>\n",
              "    <tr>\n",
              "      <th>...</th>\n",
              "      <td>...</td>\n",
              "      <td>...</td>\n",
              "    </tr>\n",
              "    <tr>\n",
              "      <th>528</th>\n",
              "      <td>695</td>\n",
              "      <td>3</td>\n",
              "    </tr>\n",
              "    <tr>\n",
              "      <th>94</th>\n",
              "      <td>696</td>\n",
              "      <td>3</td>\n",
              "    </tr>\n",
              "    <tr>\n",
              "      <th>175</th>\n",
              "      <td>697</td>\n",
              "      <td>2</td>\n",
              "    </tr>\n",
              "    <tr>\n",
              "      <th>249</th>\n",
              "      <td>698</td>\n",
              "      <td>4</td>\n",
              "    </tr>\n",
              "    <tr>\n",
              "      <th>97</th>\n",
              "      <td>699</td>\n",
              "      <td>3</td>\n",
              "    </tr>\n",
              "  </tbody>\n",
              "</table>\n",
              "<p>700 rows × 2 columns</p>\n",
              "</div>"
            ],
            "text/plain": [
              "     ImageID  label\n",
              "160        0      2\n",
              "127        1      4\n",
              "410        2      4\n",
              "484        3      3\n",
              "324        4      2\n",
              "..       ...    ...\n",
              "528      695      3\n",
              "94       696      3\n",
              "175      697      2\n",
              "249      698      4\n",
              "97       699      3\n",
              "\n",
              "[700 rows x 2 columns]"
            ]
          },
          "metadata": {},
          "execution_count": 23
        }
      ]
    },
    {
      "cell_type": "code",
      "metadata": {
        "colab": {
          "base_uri": "https://localhost:8080/"
        },
        "id": "GvSaoe8K4Ujd",
        "outputId": "4c852809-6438-47fb-f7ee-9a21351ca775"
      },
      "source": [
        "pre_sub.label.value_counts()"
      ],
      "execution_count": null,
      "outputs": [
        {
          "output_type": "execute_result",
          "data": {
            "text/plain": [
              "4    231\n",
              "3    224\n",
              "2    114\n",
              "1    111\n",
              "0     20\n",
              "Name: label, dtype: int64"
            ]
          },
          "metadata": {},
          "execution_count": 24
        }
      ]
    },
    {
      "cell_type": "markdown",
      "metadata": {
        "id": "YHjxGIz7khzw"
      },
      "source": [
        "### It is clear that 20 images are missclassified, we get rid of them and repeat the training process\n",
        "\n"
      ]
    },
    {
      "cell_type": "code",
      "metadata": {
        "colab": {
          "base_uri": "https://localhost:8080/"
        },
        "id": "Ts3MH2ArhCQJ",
        "outputId": "8e9864f5-9437-4970-9d30-0699143c2fe6"
      },
      "source": [
        "\n",
        "to_del = np.array(pre_sub[pre_sub.label == 0].ImageID)\n",
        "to_del = set(to_del)\n",
        "images_clean = []\n",
        "for image in images:\n",
        "    if int(image[:-4]) not in to_del:\n",
        "        images_clean.append(image)\n",
        "len(images_clean)"
      ],
      "execution_count": null,
      "outputs": [
        {
          "output_type": "execute_result",
          "data": {
            "text/plain": [
              "680"
            ]
          },
          "metadata": {},
          "execution_count": 33
        }
      ]
    },
    {
      "cell_type": "code",
      "metadata": {
        "colab": {
          "base_uri": "https://localhost:8080/"
        },
        "id": "1ycpGrGOlcc6",
        "outputId": "122395d3-d1b8-4db9-a2de-d68e8fbf93e3"
      },
      "source": [
        "%%time\n",
        "from tensorflow.keras.applications.resnet50 import preprocess_input\n",
        "import cv2 \n",
        "import numpy as np\n",
        "\n",
        "resnet_feature_list = []\n",
        "# images = [f for f in os.listdir(DATA_DIR)]\n",
        "for image in images_clean:\n",
        "    file = DATA_DIR+image\n",
        "    #print(file)\n",
        "    im = cv2.imread(file)\n",
        "    #im = cv2.resize(im,(256,256))\n",
        "    img = preprocess_input(np.expand_dims(im.copy(), axis=0))\n",
        "    resnet_feature = my_new_model.predict(img)\n",
        "    resnet_feature_np = np.array(resnet_feature)\n",
        "    resnet_feature_list.append(resnet_feature_np.flatten())\n",
        "\n",
        "array = np.array(resnet_feature_list)"
      ],
      "execution_count": null,
      "outputs": [
        {
          "output_type": "stream",
          "name": "stdout",
          "text": [
            "CPU times: user 1min 10s, sys: 1.56 s, total: 1min 11s\n",
            "Wall time: 1min 10s\n"
          ]
        }
      ]
    },
    {
      "cell_type": "code",
      "metadata": {
        "colab": {
          "base_uri": "https://localhost:8080/"
        },
        "id": "JkC4wwAVl6yV",
        "outputId": "567d0f10-0252-4419-b422-a7b98b3f818c"
      },
      "source": [
        "array.shape"
      ],
      "execution_count": null,
      "outputs": [
        {
          "output_type": "execute_result",
          "data": {
            "text/plain": [
              "(680, 2048)"
            ]
          },
          "metadata": {},
          "execution_count": 36
        }
      ]
    },
    {
      "cell_type": "code",
      "metadata": {
        "id": "eDO0bv2Ol5qp"
      },
      "source": [
        "from sklearn.cluster import KMeans \n",
        "\n",
        "kmeans = KMeans(n_clusters=5, random_state=None, n_init=50, max_iter=1000).fit(array) \n"
      ],
      "execution_count": null,
      "outputs": []
    },
    {
      "cell_type": "code",
      "metadata": {
        "id": "RScjdMq0mJRU"
      },
      "source": [
        "img_ids_list_clean = [f[:-4] for f in images_clean]"
      ],
      "execution_count": null,
      "outputs": []
    },
    {
      "cell_type": "code",
      "metadata": {
        "id": "sJNzOtSgmJY0"
      },
      "source": [
        "pre_sub_2 = {'ImageID':img_ids_list_clean, \"label\":kmeans.labels_}\n",
        "pre_sub_2 = pd.DataFrame(pre_sub_2)\n",
        "\n",
        "pre_sub_2 = pre_sub_2.astype(int)\n",
        "\n",
        "\n",
        "# we deal with 20 misslabeled images by asigning random labeles\n",
        "rnd_labels = []\n",
        "for i in range(len(to_del)):\n",
        "    rnd_labels.append(random.randint(0,4))\n",
        "\n",
        "# also we tried manual labeling accordingly to the main labeles   \n",
        "missing_labels = [3, 3, 2, 1, 1, 0, 1, 2, 1, 2, 2, 2, 3, 2, 1, 4, 0, 2, 0, 3]\n",
        "\n",
        "\n",
        "ending = {'ImageID':list(to_del), 'label':rnd_labels}\n",
        "ending = pd.DataFrame(ending)\n",
        "\n",
        "submission = pd.concat([pre_sub_2, ending], axis=0)\n",
        "submission = submission.sort_values(by=['ImageID'])  \n",
        "\n",
        "\n"
      ],
      "execution_count": null,
      "outputs": []
    },
    {
      "cell_type": "markdown",
      "metadata": {
        "id": "nRfLVyz_FJyd"
      },
      "source": [
        "## Submitting our Predictions to the system"
      ]
    },
    {
      "cell_type": "code",
      "metadata": {
        "id": "sejDrV5hAM0O"
      },
      "source": [
        "!rm -rf assets\n",
        "!mkdir assets\n",
        "\n",
        "submission.to_csv(os.path.join(\"assets\", \"submission.csv\"), index=False)"
      ],
      "execution_count": null,
      "outputs": []
    },
    {
      "cell_type": "code",
      "metadata": {
        "id": "DzH0N6AtAM0Q"
      },
      "source": [
        "# save before the last cell"
      ],
      "execution_count": null,
      "outputs": []
    },
    {
      "cell_type": "code",
      "metadata": {
        "colab": {
          "base_uri": "https://localhost:8080/"
        },
        "id": "unXL6NS9kCa0",
        "outputId": "4bc09dfb-970e-4f50-a50c-198d57711d2d"
      },
      "source": [
        "%aicrowd notebook submit -c environment-classification -a assets --no-verify"
      ],
      "execution_count": null,
      "outputs": [
        {
          "output_type": "stream",
          "name": "stdout",
          "text": [
            "/usr/local/lib/python3.7/dist-packages/aicrowd/notebook/helpers.py:361: UserWarning: `%aicrowd` magic command can be used to save the notebook inside jupyter notebook/jupyterLab environment and also to get the notebook directly from the frontend without mounting the drive in colab environment. You can use magic command to skip mounting the drive and submit using the code below:\n",
            " %load_ext aicrowd.magic\n",
            "%aicrowd notebook submit -c environment-classification -a assets --no-verify\n",
            "  warnings.warn(description + code)\n",
            "\u001b[1;34mMounting Google Drive 💾\u001b[0m\n",
            "Your Google Drive will be mounted to access the colab notebook\n",
            "Go to this URL in a browser: https://accounts.google.com/o/oauth2/auth?client_id=947318989803-6bn6qk8qdgf4n4g3pfee6491hc0brc4i.apps.googleusercontent.com&redirect_uri=urn%3aietf%3awg%3aoauth%3a2.0%3aoob&scope=email%20https%3a%2f%2fwww.googleapis.com%2fauth%2fdocs.test%20https%3a%2f%2fwww.googleapis.com%2fauth%2fdrive%20https%3a%2f%2fwww.googleapis.com%2fauth%2fdrive.photos.readonly%20https%3a%2f%2fwww.googleapis.com%2fauth%2fpeopleapi.readonly%20https%3a%2f%2fwww.googleapis.com%2fauth%2fdrive.activity.readonly%20https%3a%2f%2fwww.googleapis.com%2fauth%2fexperimentsandconfigs%20https%3a%2f%2fwww.googleapis.com%2fauth%2fphotos.native&response_type=code\n",
            "\n",
            "Enter your authorization code:\n",
            "4/1AX4XfWgbhNxSVaym8w-m_l37MSNBND4uLZlPzKW86wtP8nl4v_QZSpgZpkk\n",
            "Mounted at /content/drive\n",
            "Using notebook: BlitzXI_ResNet50_Kmeans_Cluster.ipynb for submission...\n",
            "Scrubbing API keys from the notebook...\n",
            "Collecting notebook...\n",
            "\u001b[2K\u001b[1;34msubmission.zip\u001b[0m \u001b[90m━━━━━━━━━━━━━━━━━━━━━━\u001b[0m \u001b[35m100.0%\u001b[0m • \u001b[32m25.9/24.2 KB\u001b[0m • \u001b[31m1.4 MB/s\u001b[0m • \u001b[36m0:00:00\u001b[0m\n",
            "\u001b[?25h                                                       ╭─────────────────────────╮                                                       \n",
            "                                                       │ \u001b[1mSuccessfully submitted!\u001b[0m │                                                       \n",
            "                                                       ╰─────────────────────────╯                                                       \n",
            "\u001b[3m                                                             Important links                                                             \u001b[0m\n",
            "┌──────────────────┬────────────────────────────────────────────────────────────────────────────────────────────────────────────────────┐\n",
            "│  This submission │ https://www.aicrowd.com/challenges/ai-blitz-xi/problems/environment-classification/submissions/156841              │\n",
            "│                  │                                                                                                                    │\n",
            "│  All submissions │ https://www.aicrowd.com/challenges/ai-blitz-xi/problems/environment-classification/submissions?my_submissions=true │\n",
            "│                  │                                                                                                                    │\n",
            "│      Leaderboard │ https://www.aicrowd.com/challenges/ai-blitz-xi/problems/environment-classification/leaderboards                    │\n",
            "│                  │                                                                                                                    │\n",
            "│ Discussion forum │ https://discourse.aicrowd.com/c/ai-blitz-xi                                                                        │\n",
            "│                  │                                                                                                                    │\n",
            "│   Challenge page │ https://www.aicrowd.com/challenges/ai-blitz-xi/problems/environment-classification                                 │\n",
            "└──────────────────┴────────────────────────────────────────────────────────────────────────────────────────────────────────────────────┘\n"
          ]
        }
      ]
    },
    {
      "cell_type": "code",
      "metadata": {
        "id": "NsIOhfLTkCbg"
      },
      "source": [
        ""
      ],
      "execution_count": null,
      "outputs": []
    }
  ]
}