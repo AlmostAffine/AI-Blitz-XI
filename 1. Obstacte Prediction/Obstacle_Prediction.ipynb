{
  "nbformat": 4,
  "nbformat_minor": 2,
  "metadata": {
    "colab": {
      "name": "Obstacle_Prediction_v2.ipynb",
      "provenance": [],
      "collapsed_sections": []
    },
    "kernelspec": {
      "name": "python3",
      "display_name": "Python 3"
    },
    "language_info": {
      "name": "python"
    },
    "widgets": {
      "application/vnd.jupyter.widget-state+json": {
        "6164b2b8ab404f5bac0e99b34311640f": {
          "model_module": "@jupyter-widgets/controls",
          "model_name": "HBoxModel",
          "model_module_version": "1.5.0",
          "state": {
            "_view_name": "HBoxView",
            "_dom_classes": [],
            "_model_name": "HBoxModel",
            "_view_module": "@jupyter-widgets/controls",
            "_model_module_version": "1.5.0",
            "_view_count": null,
            "_view_module_version": "1.5.0",
            "box_style": "",
            "layout": "IPY_MODEL_d509405a2a934b48a9f1ccdbcf7494a2",
            "_model_module": "@jupyter-widgets/controls",
            "children": [
              "IPY_MODEL_7638249301d14aa3b5c892342eba874b",
              "IPY_MODEL_5e8cd218003d4eee8388ca3b5fdc631e",
              "IPY_MODEL_65ddd7f27b3443d5b06434d5a18eff07"
            ]
          }
        },
        "d509405a2a934b48a9f1ccdbcf7494a2": {
          "model_module": "@jupyter-widgets/base",
          "model_name": "LayoutModel",
          "model_module_version": "1.2.0",
          "state": {
            "_view_name": "LayoutView",
            "grid_template_rows": null,
            "right": null,
            "justify_content": null,
            "_view_module": "@jupyter-widgets/base",
            "overflow": null,
            "_model_module_version": "1.2.0",
            "_view_count": null,
            "flex_flow": null,
            "width": null,
            "min_width": null,
            "border": null,
            "align_items": null,
            "bottom": null,
            "_model_module": "@jupyter-widgets/base",
            "top": null,
            "grid_column": null,
            "overflow_y": null,
            "overflow_x": null,
            "grid_auto_flow": null,
            "grid_area": null,
            "grid_template_columns": null,
            "flex": null,
            "_model_name": "LayoutModel",
            "justify_items": null,
            "grid_row": null,
            "max_height": null,
            "align_content": null,
            "visibility": null,
            "align_self": null,
            "height": null,
            "min_height": null,
            "padding": null,
            "grid_auto_rows": null,
            "grid_gap": null,
            "max_width": null,
            "order": null,
            "_view_module_version": "1.2.0",
            "grid_template_areas": null,
            "object_position": null,
            "object_fit": null,
            "grid_auto_columns": null,
            "margin": null,
            "display": null,
            "left": null
          }
        },
        "7638249301d14aa3b5c892342eba874b": {
          "model_module": "@jupyter-widgets/controls",
          "model_name": "HTMLModel",
          "model_module_version": "1.5.0",
          "state": {
            "_view_name": "HTMLView",
            "style": "IPY_MODEL_849b62f511e2431fabc9d882d043dde2",
            "_dom_classes": [],
            "description": "",
            "_model_name": "HTMLModel",
            "placeholder": "​",
            "_view_module": "@jupyter-widgets/controls",
            "_model_module_version": "1.5.0",
            "value": "data.npz: 100%",
            "_view_count": null,
            "_view_module_version": "1.5.0",
            "description_tooltip": null,
            "_model_module": "@jupyter-widgets/controls",
            "layout": "IPY_MODEL_595cc5c4abdf45aebc74a528e40b4043"
          }
        },
        "5e8cd218003d4eee8388ca3b5fdc631e": {
          "model_module": "@jupyter-widgets/controls",
          "model_name": "FloatProgressModel",
          "model_module_version": "1.5.0",
          "state": {
            "_view_name": "ProgressView",
            "style": "IPY_MODEL_96da54a67cbb4f9b9797102fb0e12ae7",
            "_dom_classes": [],
            "description": "",
            "_model_name": "FloatProgressModel",
            "bar_style": "success",
            "max": 6521707,
            "_view_module": "@jupyter-widgets/controls",
            "_model_module_version": "1.5.0",
            "value": 6521707,
            "_view_count": null,
            "_view_module_version": "1.5.0",
            "orientation": "horizontal",
            "min": 0,
            "description_tooltip": null,
            "_model_module": "@jupyter-widgets/controls",
            "layout": "IPY_MODEL_b6d2a0db1385474ea88f69260d980853"
          }
        },
        "65ddd7f27b3443d5b06434d5a18eff07": {
          "model_module": "@jupyter-widgets/controls",
          "model_name": "HTMLModel",
          "model_module_version": "1.5.0",
          "state": {
            "_view_name": "HTMLView",
            "style": "IPY_MODEL_e412716a40584fb6b899ff302553a937",
            "_dom_classes": [],
            "description": "",
            "_model_name": "HTMLModel",
            "placeholder": "​",
            "_view_module": "@jupyter-widgets/controls",
            "_model_module_version": "1.5.0",
            "value": " 6.52M/6.52M [00:00&lt;00:00, 10.1MB/s]",
            "_view_count": null,
            "_view_module_version": "1.5.0",
            "description_tooltip": null,
            "_model_module": "@jupyter-widgets/controls",
            "layout": "IPY_MODEL_6bd6b67ff84b4432b22d0a952cca79b6"
          }
        },
        "849b62f511e2431fabc9d882d043dde2": {
          "model_module": "@jupyter-widgets/controls",
          "model_name": "DescriptionStyleModel",
          "model_module_version": "1.5.0",
          "state": {
            "_view_name": "StyleView",
            "_model_name": "DescriptionStyleModel",
            "description_width": "",
            "_view_module": "@jupyter-widgets/base",
            "_model_module_version": "1.5.0",
            "_view_count": null,
            "_view_module_version": "1.2.0",
            "_model_module": "@jupyter-widgets/controls"
          }
        },
        "595cc5c4abdf45aebc74a528e40b4043": {
          "model_module": "@jupyter-widgets/base",
          "model_name": "LayoutModel",
          "model_module_version": "1.2.0",
          "state": {
            "_view_name": "LayoutView",
            "grid_template_rows": null,
            "right": null,
            "justify_content": null,
            "_view_module": "@jupyter-widgets/base",
            "overflow": null,
            "_model_module_version": "1.2.0",
            "_view_count": null,
            "flex_flow": null,
            "width": null,
            "min_width": null,
            "border": null,
            "align_items": null,
            "bottom": null,
            "_model_module": "@jupyter-widgets/base",
            "top": null,
            "grid_column": null,
            "overflow_y": null,
            "overflow_x": null,
            "grid_auto_flow": null,
            "grid_area": null,
            "grid_template_columns": null,
            "flex": null,
            "_model_name": "LayoutModel",
            "justify_items": null,
            "grid_row": null,
            "max_height": null,
            "align_content": null,
            "visibility": null,
            "align_self": null,
            "height": null,
            "min_height": null,
            "padding": null,
            "grid_auto_rows": null,
            "grid_gap": null,
            "max_width": null,
            "order": null,
            "_view_module_version": "1.2.0",
            "grid_template_areas": null,
            "object_position": null,
            "object_fit": null,
            "grid_auto_columns": null,
            "margin": null,
            "display": null,
            "left": null
          }
        },
        "96da54a67cbb4f9b9797102fb0e12ae7": {
          "model_module": "@jupyter-widgets/controls",
          "model_name": "ProgressStyleModel",
          "model_module_version": "1.5.0",
          "state": {
            "_view_name": "StyleView",
            "_model_name": "ProgressStyleModel",
            "description_width": "",
            "_view_module": "@jupyter-widgets/base",
            "_model_module_version": "1.5.0",
            "_view_count": null,
            "_view_module_version": "1.2.0",
            "bar_color": null,
            "_model_module": "@jupyter-widgets/controls"
          }
        },
        "b6d2a0db1385474ea88f69260d980853": {
          "model_module": "@jupyter-widgets/base",
          "model_name": "LayoutModel",
          "model_module_version": "1.2.0",
          "state": {
            "_view_name": "LayoutView",
            "grid_template_rows": null,
            "right": null,
            "justify_content": null,
            "_view_module": "@jupyter-widgets/base",
            "overflow": null,
            "_model_module_version": "1.2.0",
            "_view_count": null,
            "flex_flow": null,
            "width": null,
            "min_width": null,
            "border": null,
            "align_items": null,
            "bottom": null,
            "_model_module": "@jupyter-widgets/base",
            "top": null,
            "grid_column": null,
            "overflow_y": null,
            "overflow_x": null,
            "grid_auto_flow": null,
            "grid_area": null,
            "grid_template_columns": null,
            "flex": null,
            "_model_name": "LayoutModel",
            "justify_items": null,
            "grid_row": null,
            "max_height": null,
            "align_content": null,
            "visibility": null,
            "align_self": null,
            "height": null,
            "min_height": null,
            "padding": null,
            "grid_auto_rows": null,
            "grid_gap": null,
            "max_width": null,
            "order": null,
            "_view_module_version": "1.2.0",
            "grid_template_areas": null,
            "object_position": null,
            "object_fit": null,
            "grid_auto_columns": null,
            "margin": null,
            "display": null,
            "left": null
          }
        },
        "e412716a40584fb6b899ff302553a937": {
          "model_module": "@jupyter-widgets/controls",
          "model_name": "DescriptionStyleModel",
          "model_module_version": "1.5.0",
          "state": {
            "_view_name": "StyleView",
            "_model_name": "DescriptionStyleModel",
            "description_width": "",
            "_view_module": "@jupyter-widgets/base",
            "_model_module_version": "1.5.0",
            "_view_count": null,
            "_view_module_version": "1.2.0",
            "_model_module": "@jupyter-widgets/controls"
          }
        },
        "6bd6b67ff84b4432b22d0a952cca79b6": {
          "model_module": "@jupyter-widgets/base",
          "model_name": "LayoutModel",
          "model_module_version": "1.2.0",
          "state": {
            "_view_name": "LayoutView",
            "grid_template_rows": null,
            "right": null,
            "justify_content": null,
            "_view_module": "@jupyter-widgets/base",
            "overflow": null,
            "_model_module_version": "1.2.0",
            "_view_count": null,
            "flex_flow": null,
            "width": null,
            "min_width": null,
            "border": null,
            "align_items": null,
            "bottom": null,
            "_model_module": "@jupyter-widgets/base",
            "top": null,
            "grid_column": null,
            "overflow_y": null,
            "overflow_x": null,
            "grid_auto_flow": null,
            "grid_area": null,
            "grid_template_columns": null,
            "flex": null,
            "_model_name": "LayoutModel",
            "justify_items": null,
            "grid_row": null,
            "max_height": null,
            "align_content": null,
            "visibility": null,
            "align_self": null,
            "height": null,
            "min_height": null,
            "padding": null,
            "grid_auto_rows": null,
            "grid_gap": null,
            "max_width": null,
            "order": null,
            "_view_module_version": "1.2.0",
            "grid_template_areas": null,
            "object_position": null,
            "object_fit": null,
            "grid_auto_columns": null,
            "margin": null,
            "display": null,
            "left": null
          }
        },
        "2a1941be9c20448cacf5a1ccbcc7f5f6": {
          "model_module": "@jupyter-widgets/controls",
          "model_name": "HBoxModel",
          "model_module_version": "1.5.0",
          "state": {
            "_view_name": "HBoxView",
            "_dom_classes": [],
            "_model_name": "HBoxModel",
            "_view_module": "@jupyter-widgets/controls",
            "_model_module_version": "1.5.0",
            "_view_count": null,
            "_view_module_version": "1.5.0",
            "box_style": "",
            "layout": "IPY_MODEL_0e02f93f5c8549978ec2e8672c7e684a",
            "_model_module": "@jupyter-widgets/controls",
            "children": [
              "IPY_MODEL_8aa13b92631a4aa3b9a6c3ebab685f2f",
              "IPY_MODEL_ff2408457a3d48d7b603937e476e7419",
              "IPY_MODEL_815e6021b55e451092ce3f2197927290"
            ]
          }
        },
        "0e02f93f5c8549978ec2e8672c7e684a": {
          "model_module": "@jupyter-widgets/base",
          "model_name": "LayoutModel",
          "model_module_version": "1.2.0",
          "state": {
            "_view_name": "LayoutView",
            "grid_template_rows": null,
            "right": null,
            "justify_content": null,
            "_view_module": "@jupyter-widgets/base",
            "overflow": null,
            "_model_module_version": "1.2.0",
            "_view_count": null,
            "flex_flow": null,
            "width": null,
            "min_width": null,
            "border": null,
            "align_items": null,
            "bottom": null,
            "_model_module": "@jupyter-widgets/base",
            "top": null,
            "grid_column": null,
            "overflow_y": null,
            "overflow_x": null,
            "grid_auto_flow": null,
            "grid_area": null,
            "grid_template_columns": null,
            "flex": null,
            "_model_name": "LayoutModel",
            "justify_items": null,
            "grid_row": null,
            "max_height": null,
            "align_content": null,
            "visibility": null,
            "align_self": null,
            "height": null,
            "min_height": null,
            "padding": null,
            "grid_auto_rows": null,
            "grid_gap": null,
            "max_width": null,
            "order": null,
            "_view_module_version": "1.2.0",
            "grid_template_areas": null,
            "object_position": null,
            "object_fit": null,
            "grid_auto_columns": null,
            "margin": null,
            "display": null,
            "left": null
          }
        },
        "8aa13b92631a4aa3b9a6c3ebab685f2f": {
          "model_module": "@jupyter-widgets/controls",
          "model_name": "HTMLModel",
          "model_module_version": "1.5.0",
          "state": {
            "_view_name": "HTMLView",
            "style": "IPY_MODEL_94c7041981c044f8a6c4907dfe1a8b10",
            "_dom_classes": [],
            "description": "",
            "_model_name": "HTMLModel",
            "placeholder": "​",
            "_view_module": "@jupyter-widgets/controls",
            "_model_module_version": "1.5.0",
            "value": "sample_submission.csv: 100%",
            "_view_count": null,
            "_view_module_version": "1.5.0",
            "description_tooltip": null,
            "_model_module": "@jupyter-widgets/controls",
            "layout": "IPY_MODEL_217a1aec501b409189d092a72dcce6b5"
          }
        },
        "ff2408457a3d48d7b603937e476e7419": {
          "model_module": "@jupyter-widgets/controls",
          "model_name": "FloatProgressModel",
          "model_module_version": "1.5.0",
          "state": {
            "_view_name": "ProgressView",
            "style": "IPY_MODEL_597b94e5bb7343d0ba2e9a4f4d161ed5",
            "_dom_classes": [],
            "description": "",
            "_model_name": "FloatProgressModel",
            "bar_style": "success",
            "max": 9007,
            "_view_module": "@jupyter-widgets/controls",
            "_model_module_version": "1.5.0",
            "value": 9007,
            "_view_count": null,
            "_view_module_version": "1.5.0",
            "orientation": "horizontal",
            "min": 0,
            "description_tooltip": null,
            "_model_module": "@jupyter-widgets/controls",
            "layout": "IPY_MODEL_0848a516d00a48468eae44fa8ba96673"
          }
        },
        "815e6021b55e451092ce3f2197927290": {
          "model_module": "@jupyter-widgets/controls",
          "model_name": "HTMLModel",
          "model_module_version": "1.5.0",
          "state": {
            "_view_name": "HTMLView",
            "style": "IPY_MODEL_1b3144355c8545439050d4a6c81a1793",
            "_dom_classes": [],
            "description": "",
            "_model_name": "HTMLModel",
            "placeholder": "​",
            "_view_module": "@jupyter-widgets/controls",
            "_model_module_version": "1.5.0",
            "value": " 9.01k/9.01k [00:00&lt;00:00, 172kB/s]",
            "_view_count": null,
            "_view_module_version": "1.5.0",
            "description_tooltip": null,
            "_model_module": "@jupyter-widgets/controls",
            "layout": "IPY_MODEL_039d4c64cf214ecc8997fedc122dcc42"
          }
        },
        "94c7041981c044f8a6c4907dfe1a8b10": {
          "model_module": "@jupyter-widgets/controls",
          "model_name": "DescriptionStyleModel",
          "model_module_version": "1.5.0",
          "state": {
            "_view_name": "StyleView",
            "_model_name": "DescriptionStyleModel",
            "description_width": "",
            "_view_module": "@jupyter-widgets/base",
            "_model_module_version": "1.5.0",
            "_view_count": null,
            "_view_module_version": "1.2.0",
            "_model_module": "@jupyter-widgets/controls"
          }
        },
        "217a1aec501b409189d092a72dcce6b5": {
          "model_module": "@jupyter-widgets/base",
          "model_name": "LayoutModel",
          "model_module_version": "1.2.0",
          "state": {
            "_view_name": "LayoutView",
            "grid_template_rows": null,
            "right": null,
            "justify_content": null,
            "_view_module": "@jupyter-widgets/base",
            "overflow": null,
            "_model_module_version": "1.2.0",
            "_view_count": null,
            "flex_flow": null,
            "width": null,
            "min_width": null,
            "border": null,
            "align_items": null,
            "bottom": null,
            "_model_module": "@jupyter-widgets/base",
            "top": null,
            "grid_column": null,
            "overflow_y": null,
            "overflow_x": null,
            "grid_auto_flow": null,
            "grid_area": null,
            "grid_template_columns": null,
            "flex": null,
            "_model_name": "LayoutModel",
            "justify_items": null,
            "grid_row": null,
            "max_height": null,
            "align_content": null,
            "visibility": null,
            "align_self": null,
            "height": null,
            "min_height": null,
            "padding": null,
            "grid_auto_rows": null,
            "grid_gap": null,
            "max_width": null,
            "order": null,
            "_view_module_version": "1.2.0",
            "grid_template_areas": null,
            "object_position": null,
            "object_fit": null,
            "grid_auto_columns": null,
            "margin": null,
            "display": null,
            "left": null
          }
        },
        "597b94e5bb7343d0ba2e9a4f4d161ed5": {
          "model_module": "@jupyter-widgets/controls",
          "model_name": "ProgressStyleModel",
          "model_module_version": "1.5.0",
          "state": {
            "_view_name": "StyleView",
            "_model_name": "ProgressStyleModel",
            "description_width": "",
            "_view_module": "@jupyter-widgets/base",
            "_model_module_version": "1.5.0",
            "_view_count": null,
            "_view_module_version": "1.2.0",
            "bar_color": null,
            "_model_module": "@jupyter-widgets/controls"
          }
        },
        "0848a516d00a48468eae44fa8ba96673": {
          "model_module": "@jupyter-widgets/base",
          "model_name": "LayoutModel",
          "model_module_version": "1.2.0",
          "state": {
            "_view_name": "LayoutView",
            "grid_template_rows": null,
            "right": null,
            "justify_content": null,
            "_view_module": "@jupyter-widgets/base",
            "overflow": null,
            "_model_module_version": "1.2.0",
            "_view_count": null,
            "flex_flow": null,
            "width": null,
            "min_width": null,
            "border": null,
            "align_items": null,
            "bottom": null,
            "_model_module": "@jupyter-widgets/base",
            "top": null,
            "grid_column": null,
            "overflow_y": null,
            "overflow_x": null,
            "grid_auto_flow": null,
            "grid_area": null,
            "grid_template_columns": null,
            "flex": null,
            "_model_name": "LayoutModel",
            "justify_items": null,
            "grid_row": null,
            "max_height": null,
            "align_content": null,
            "visibility": null,
            "align_self": null,
            "height": null,
            "min_height": null,
            "padding": null,
            "grid_auto_rows": null,
            "grid_gap": null,
            "max_width": null,
            "order": null,
            "_view_module_version": "1.2.0",
            "grid_template_areas": null,
            "object_position": null,
            "object_fit": null,
            "grid_auto_columns": null,
            "margin": null,
            "display": null,
            "left": null
          }
        },
        "1b3144355c8545439050d4a6c81a1793": {
          "model_module": "@jupyter-widgets/controls",
          "model_name": "DescriptionStyleModel",
          "model_module_version": "1.5.0",
          "state": {
            "_view_name": "StyleView",
            "_model_name": "DescriptionStyleModel",
            "description_width": "",
            "_view_module": "@jupyter-widgets/base",
            "_model_module_version": "1.5.0",
            "_view_count": null,
            "_view_module_version": "1.2.0",
            "_model_module": "@jupyter-widgets/controls"
          }
        },
        "039d4c64cf214ecc8997fedc122dcc42": {
          "model_module": "@jupyter-widgets/base",
          "model_name": "LayoutModel",
          "model_module_version": "1.2.0",
          "state": {
            "_view_name": "LayoutView",
            "grid_template_rows": null,
            "right": null,
            "justify_content": null,
            "_view_module": "@jupyter-widgets/base",
            "overflow": null,
            "_model_module_version": "1.2.0",
            "_view_count": null,
            "flex_flow": null,
            "width": null,
            "min_width": null,
            "border": null,
            "align_items": null,
            "bottom": null,
            "_model_module": "@jupyter-widgets/base",
            "top": null,
            "grid_column": null,
            "overflow_y": null,
            "overflow_x": null,
            "grid_auto_flow": null,
            "grid_area": null,
            "grid_template_columns": null,
            "flex": null,
            "_model_name": "LayoutModel",
            "justify_items": null,
            "grid_row": null,
            "max_height": null,
            "align_content": null,
            "visibility": null,
            "align_self": null,
            "height": null,
            "min_height": null,
            "padding": null,
            "grid_auto_rows": null,
            "grid_gap": null,
            "max_width": null,
            "order": null,
            "_view_module_version": "1.2.0",
            "grid_template_areas": null,
            "object_position": null,
            "object_fit": null,
            "grid_auto_columns": null,
            "margin": null,
            "display": null,
            "left": null
          }
        }
      }
    }
  },
  "cells": [
    {
      "cell_type": "markdown",
      "source": [
        "\n",
        "\n",
        "![](https://images.aicrowd.com/raw_images/challenges/banner_file/901/d5b56de544c949cb8bf7.jpg)\n"
      ],
      "metadata": {
        "id": "n7MqnoIPgF9X"
      }
    },
    {
      "cell_type": "markdown",
      "source": [
        "# 0. Installing aircrowd-cli and downloading Dataset\n"
      ],
      "metadata": {
        "id": "fNpguGDegasj"
      }
    },
    {
      "cell_type": "code",
      "execution_count": 1,
      "source": [
        "!pip install aicrowd-cli\r\n",
        "%load_ext aicrowd.magic"
      ],
      "outputs": [
        {
          "output_type": "stream",
          "name": "stdout",
          "text": [
            "Requirement already satisfied: aicrowd-cli in /usr/local/lib/python3.7/dist-packages (0.1.10)\n",
            "Requirement already satisfied: GitPython==3.1.18 in /usr/local/lib/python3.7/dist-packages (from aicrowd-cli) (3.1.18)\n",
            "Requirement already satisfied: tqdm<5,>=4.56.0 in /usr/local/lib/python3.7/dist-packages (from aicrowd-cli) (4.62.3)\n",
            "Requirement already satisfied: toml<1,>=0.10.2 in /usr/local/lib/python3.7/dist-packages (from aicrowd-cli) (0.10.2)\n",
            "Requirement already satisfied: requests-toolbelt<1,>=0.9.1 in /usr/local/lib/python3.7/dist-packages (from aicrowd-cli) (0.9.1)\n",
            "Requirement already satisfied: rich<11,>=10.0.0 in /usr/local/lib/python3.7/dist-packages (from aicrowd-cli) (10.11.0)\n",
            "Requirement already satisfied: pyzmq==22.1.0 in /usr/local/lib/python3.7/dist-packages (from aicrowd-cli) (22.1.0)\n",
            "Requirement already satisfied: requests<3,>=2.25.1 in /usr/local/lib/python3.7/dist-packages (from aicrowd-cli) (2.26.0)\n",
            "Requirement already satisfied: click<8,>=7.1.2 in /usr/local/lib/python3.7/dist-packages (from aicrowd-cli) (7.1.2)\n",
            "Requirement already satisfied: typing-extensions>=3.7.4.0 in /usr/local/lib/python3.7/dist-packages (from GitPython==3.1.18->aicrowd-cli) (3.7.4.3)\n",
            "Requirement already satisfied: gitdb<5,>=4.0.1 in /usr/local/lib/python3.7/dist-packages (from GitPython==3.1.18->aicrowd-cli) (4.0.7)\n",
            "Requirement already satisfied: smmap<5,>=3.0.1 in /usr/local/lib/python3.7/dist-packages (from gitdb<5,>=4.0.1->GitPython==3.1.18->aicrowd-cli) (4.0.0)\n",
            "Requirement already satisfied: urllib3<1.27,>=1.21.1 in /usr/local/lib/python3.7/dist-packages (from requests<3,>=2.25.1->aicrowd-cli) (1.24.3)\n",
            "Requirement already satisfied: charset-normalizer~=2.0.0 in /usr/local/lib/python3.7/dist-packages (from requests<3,>=2.25.1->aicrowd-cli) (2.0.6)\n",
            "Requirement already satisfied: certifi>=2017.4.17 in /usr/local/lib/python3.7/dist-packages (from requests<3,>=2.25.1->aicrowd-cli) (2021.5.30)\n",
            "Requirement already satisfied: idna<4,>=2.5 in /usr/local/lib/python3.7/dist-packages (from requests<3,>=2.25.1->aicrowd-cli) (2.10)\n",
            "Requirement already satisfied: colorama<0.5.0,>=0.4.0 in /usr/local/lib/python3.7/dist-packages (from rich<11,>=10.0.0->aicrowd-cli) (0.4.4)\n",
            "Requirement already satisfied: pygments<3.0.0,>=2.6.0 in /usr/local/lib/python3.7/dist-packages (from rich<11,>=10.0.0->aicrowd-cli) (2.6.1)\n",
            "Requirement already satisfied: commonmark<0.10.0,>=0.9.0 in /usr/local/lib/python3.7/dist-packages (from rich<11,>=10.0.0->aicrowd-cli) (0.9.1)\n"
          ]
        }
      ],
      "metadata": {
        "colab": {
          "base_uri": "https://localhost:8080/"
        },
        "id": "SVikU6wwfp1g",
        "outputId": "c7aa6cfb-3b42-4f68-f6a5-d299720eeb58"
      }
    },
    {
      "cell_type": "code",
      "execution_count": 2,
      "source": [
        "%aicrowd login"
      ],
      "outputs": [
        {
          "output_type": "stream",
          "name": "stdout",
          "text": [
            "Please login here: \u001b[34m\u001b[1m\u001b[4mhttps://api.aicrowd.com/auth/-cWKHaSfcGvfm5Utucg3oM7AMKCUdsRc017qs8UiKOI\u001b[0m\n",
            "\u001b[32mAPI Key valid\u001b[0m\n",
            "\u001b[32mSaved API Key successfully!\u001b[0m\n"
          ]
        }
      ],
      "metadata": {
        "colab": {
          "base_uri": "https://localhost:8080/"
        },
        "id": "T7qKR3Qtgp0B",
        "outputId": "9334266b-ea0e-4d5d-d87e-c32fc5811549"
      }
    },
    {
      "cell_type": "code",
      "execution_count": 3,
      "source": [
        "!rm -rf data\r\n",
        "!mkdir data\r\n",
        "%aicrowd ds dl -c obstacle-prediction -o data"
      ],
      "outputs": [
        {
          "output_type": "display_data",
          "data": {
            "application/vnd.jupyter.widget-view+json": {
              "model_id": "6164b2b8ab404f5bac0e99b34311640f",
              "version_minor": 0,
              "version_major": 2
            },
            "text/plain": [
              "data.npz:   0%|          | 0.00/6.52M [00:00<?, ?B/s]"
            ]
          },
          "metadata": {}
        },
        {
          "output_type": "display_data",
          "data": {
            "application/vnd.jupyter.widget-view+json": {
              "model_id": "2a1941be9c20448cacf5a1ccbcc7f5f6",
              "version_minor": 0,
              "version_major": 2
            },
            "text/plain": [
              "sample_submission.csv:   0%|          | 0.00/9.01k [00:00<?, ?B/s]"
            ]
          },
          "metadata": {}
        }
      ],
      "metadata": {
        "colab": {
          "base_uri": "https://localhost:8080/",
          "height": 81,
          "referenced_widgets": [
            "6164b2b8ab404f5bac0e99b34311640f",
            "d509405a2a934b48a9f1ccdbcf7494a2",
            "7638249301d14aa3b5c892342eba874b",
            "5e8cd218003d4eee8388ca3b5fdc631e",
            "65ddd7f27b3443d5b06434d5a18eff07",
            "849b62f511e2431fabc9d882d043dde2",
            "595cc5c4abdf45aebc74a528e40b4043",
            "96da54a67cbb4f9b9797102fb0e12ae7",
            "b6d2a0db1385474ea88f69260d980853",
            "e412716a40584fb6b899ff302553a937",
            "6bd6b67ff84b4432b22d0a952cca79b6",
            "2a1941be9c20448cacf5a1ccbcc7f5f6",
            "0e02f93f5c8549978ec2e8672c7e684a",
            "8aa13b92631a4aa3b9a6c3ebab685f2f",
            "ff2408457a3d48d7b603937e476e7419",
            "815e6021b55e451092ce3f2197927290",
            "94c7041981c044f8a6c4907dfe1a8b10",
            "217a1aec501b409189d092a72dcce6b5",
            "597b94e5bb7343d0ba2e9a4f4d161ed5",
            "0848a516d00a48468eae44fa8ba96673",
            "1b3144355c8545439050d4a6c81a1793",
            "039d4c64cf214ecc8997fedc122dcc42"
          ]
        },
        "id": "lMrqscpbg2eq",
        "outputId": "13f6c6b3-c5cf-43d5-93c8-528f25283b16"
      }
    },
    {
      "cell_type": "markdown",
      "source": [
        "# 1. Importing Libraries\n",
        "\n",
        "<h3>In this solution we will use XGB and CatBoost libraries to train the model and generate the predictions</h3>"
      ],
      "metadata": {
        "id": "pxNxaGwEhAHR"
      }
    },
    {
      "cell_type": "code",
      "execution_count": 11,
      "source": [
        "!pip install catboost"
      ],
      "outputs": [
        {
          "output_type": "stream",
          "name": "stdout",
          "text": [
            "Collecting catboost\n",
            "  Downloading catboost-1.0.0-cp37-none-manylinux1_x86_64.whl (76.4 MB)\n",
            "\u001b[K     |████████████████████████████████| 76.4 MB 21 kB/s \n",
            "\u001b[?25hRequirement already satisfied: plotly in /usr/local/lib/python3.7/dist-packages (from catboost) (4.4.1)\n",
            "Requirement already satisfied: matplotlib in /usr/local/lib/python3.7/dist-packages (from catboost) (3.2.2)\n",
            "Requirement already satisfied: numpy>=1.16.0 in /usr/local/lib/python3.7/dist-packages (from catboost) (1.19.5)\n",
            "Requirement already satisfied: scipy in /usr/local/lib/python3.7/dist-packages (from catboost) (1.4.1)\n",
            "Requirement already satisfied: six in /usr/local/lib/python3.7/dist-packages (from catboost) (1.15.0)\n",
            "Requirement already satisfied: graphviz in /usr/local/lib/python3.7/dist-packages (from catboost) (0.10.1)\n",
            "Requirement already satisfied: pandas>=0.24.0 in /usr/local/lib/python3.7/dist-packages (from catboost) (1.1.5)\n",
            "Requirement already satisfied: pytz>=2017.2 in /usr/local/lib/python3.7/dist-packages (from pandas>=0.24.0->catboost) (2018.9)\n",
            "Requirement already satisfied: python-dateutil>=2.7.3 in /usr/local/lib/python3.7/dist-packages (from pandas>=0.24.0->catboost) (2.8.2)\n",
            "Requirement already satisfied: pyparsing!=2.0.4,!=2.1.2,!=2.1.6,>=2.0.1 in /usr/local/lib/python3.7/dist-packages (from matplotlib->catboost) (2.4.7)\n",
            "Requirement already satisfied: cycler>=0.10 in /usr/local/lib/python3.7/dist-packages (from matplotlib->catboost) (0.10.0)\n",
            "Requirement already satisfied: kiwisolver>=1.0.1 in /usr/local/lib/python3.7/dist-packages (from matplotlib->catboost) (1.3.2)\n",
            "Requirement already satisfied: retrying>=1.3.3 in /usr/local/lib/python3.7/dist-packages (from plotly->catboost) (1.3.3)\n",
            "Installing collected packages: catboost\n",
            "Successfully installed catboost-1.0.0\n"
          ]
        }
      ],
      "metadata": {
        "colab": {
          "base_uri": "https://localhost:8080/"
        },
        "id": "K8LetbFNqA_c",
        "outputId": "727d83e5-754e-4182-fbed-2d7e94758285"
      }
    },
    {
      "cell_type": "code",
      "execution_count": 12,
      "source": [
        "import pandas as pd\r\n",
        "import numpy as np\r\n",
        "from sklearn.model_selection import train_test_split, KFold\r\n",
        "from sklearn.ensemble import RandomForestClassifier\r\n",
        "import os\r\n",
        "import matplotlib.pyplot as plt\r\n",
        "import plotly.graph_objects as go\r\n",
        "import seaborn as sns\r\n",
        "from xgboost import XGBClassifier\r\n",
        "from catboost import CatBoostClassifier"
      ],
      "outputs": [],
      "metadata": {
        "id": "6d3LRAAphA5_"
      }
    },
    {
      "cell_type": "markdown",
      "source": [
        "# 2. Reading the dataset\n",
        "\n",
        "<h3>Here, we will read the `data.npz` which contains both training samples & labels, and testing samples</h3>"
      ],
      "metadata": {
        "id": "CKQaYNdDhJAz"
      }
    },
    {
      "cell_type": "code",
      "execution_count": 5,
      "source": [
        "data = np.load(\"/content/data/data.npz\", allow_pickle=True)\r\n",
        "\r\n",
        "train_data = data[\"train\"]\r\n",
        "test_data = data['test']\r\n",
        "\r\n",
        "train_data.shape, test_data.shape"
      ],
      "outputs": [
        {
          "output_type": "execute_result",
          "data": {
            "text/plain": [
              "((5000, 2), (3000,))"
            ]
          },
          "metadata": {},
          "execution_count": 5
        }
      ],
      "metadata": {
        "colab": {
          "base_uri": "https://localhost:8080/"
        },
        "id": "kxJiegWbhKIf",
        "outputId": "57993dfc-5e64-4f56-b945-d86dbdebd1e4"
      }
    },
    {
      "cell_type": "code",
      "execution_count": null,
      "source": [
        "train_data[2][0].shape"
      ],
      "outputs": [
        {
          "output_type": "execute_result",
          "data": {
            "text/plain": [
              "(300, 4)"
            ]
          },
          "metadata": {},
          "execution_count": 64
        }
      ],
      "metadata": {
        "colab": {
          "base_uri": "https://localhost:8080/"
        },
        "id": "Qfmdclnu3OC1",
        "outputId": "f46c0eed-fd7d-46a5-a08f-a1e8632998f8"
      }
    },
    {
      "cell_type": "code",
      "execution_count": 6,
      "source": [
        "# Convert each training to 1D array so can we can put that into a sklearn model\r\n",
        "X = np.array([sample.flatten() for sample in train_data[:, 0].tolist()])\r\n",
        "y = np.array(train_data[:, 1].tolist())\r\n"
      ],
      "outputs": [],
      "metadata": {
        "id": "KsXT09rdifhq"
      }
    },
    {
      "cell_type": "code",
      "execution_count": 7,
      "source": [
        "# Checking for any class imbalanceb\r\n",
        "sns.countplot(y)"
      ],
      "outputs": [
        {
          "output_type": "stream",
          "name": "stderr",
          "text": [
            "/usr/local/lib/python3.7/dist-packages/seaborn/_decorators.py:43: FutureWarning: Pass the following variable as a keyword arg: x. From version 0.12, the only valid positional argument will be `data`, and passing other arguments without an explicit keyword will result in an error or misinterpretation.\n",
            "  FutureWarning\n"
          ]
        },
        {
          "output_type": "execute_result",
          "data": {
            "text/plain": [
              "<matplotlib.axes._subplots.AxesSubplot at 0x7eff00e68a90>"
            ]
          },
          "metadata": {},
          "execution_count": 7
        },
        {
          "output_type": "display_data",
          "data": {
            "image/png": "[encoded data removed]",
            "text/plain": [
              "<Figure size 432x288 with 1 Axes>"
            ]
          },
          "metadata": {
            "needs_background": "light"
          }
        }
      ],
      "metadata": {
        "id": "BvPpFNC9UAoF",
        "colab": {
          "base_uri": "https://localhost:8080/",
          "height": 337
        },
        "outputId": "0dc6b018-97aa-43f1-a4c3-0675f837a7c9"
      }
    },
    {
      "cell_type": "code",
      "execution_count": 20,
      "source": [
        "# Getting a random 3D lidar sample data\r\n",
        "import random\r\n",
        "INDEX = random.randint(0, train_data.shape[0])\r\n",
        "\r\n",
        "# Getting the individual x,y and z points.\r\n",
        "x = train_data[INDEX][0][:, 0].tolist()\r\n",
        "y = train_data[INDEX][0][:, 1].tolist()\r\n",
        "z = train_data[INDEX][0][:, 2].tolist()\r\n",
        "\r\n",
        "# Label for the corrosponding sample ( is there an obstacle )\r\n",
        "label  = train_data[INDEX][1]\r\n",
        "obstacle = bool(label)\r\n",
        "# Generating the 3D graph\r\n",
        "fig = go.Figure(data=[go.Scatter3d(x=x, y=y, z=z,\r\n",
        "                                   mode='markers',\r\n",
        "                                   marker=dict(\r\n",
        "                                   size=1,       \r\n",
        "                                   colorscale='Viridis',\r\n",
        "                                   opacity=0.8))])\r\n",
        "print(\"is obstacle presented : \", obstacle)\r\n",
        "fig.show()\r\n",
        "\r\n"
      ],
      "outputs": [
        {
          "output_type": "stream",
          "name": "stdout",
          "text": [
            "is obstacle presented :  True\n"
          ]
        },
        {
          "output_type": "display_data",
          "data": {
            "text/html": [
              "<html>\n",
              "<head><meta charset=\"utf-8\" /></head>\n",
              "<body>\n",
              "    <div>\n",
              "            <script src=\"https://cdnjs.cloudflare.com/ajax/libs/mathjax/2.7.5/MathJax.js?config=TeX-AMS-MML_SVG\"></script><script type=\"text/javascript\">if (window.MathJax) {MathJax.Hub.Config({SVG: {font: \"STIX-Web\"}});}</script>\n",
              "                <script type=\"text/javascript\">window.PlotlyConfig = {MathJaxConfig: 'local'};</script>\n",
              "        <script src=\"https://cdn.plot.ly/plotly-latest.min.js\"></script>    \n",
              "            <div id=\"f7de1d77-09b8-4469-ae32-355920683f63\" class=\"plotly-graph-div\" style=\"height:525px; width:100%;\"></div>\n",
              "            <script type=\"text/javascript\">\n",
              "                \n",
              "                    window.PLOTLYENV=window.PLOTLYENV || {};\n",
              "                    \n",
              "                if (document.getElementById(\"f7de1d77-09b8-4469-ae32-355920683f63\")) {\n",
              "                    Plotly.newPlot(\n",
              "                        'f7de1d77-09b8-4469-ae32-355920683f63',\n",
              "                        [{\"marker\": {\"colorscale\": [[0.0, \"#440154\"], [0.1111111111111111, \"#482878\"], [0.2222222222222222, \"#3e4989\"], [0.3333333333333333, \"#31688e\"], [0.4444444444444444, \"#26828e\"], [0.5555555555555556, \"#1f9e89\"], [0.6666666666666666, \"#35b779\"], [0.7777777777777778, \"#6ece58\"], [0.8888888888888888, \"#b5de2b\"], [1.0, \"#fde725\"]], \"opacity\": 0.8, \"size\": 1}, \"mode\": \"markers\", \"type\": \"scatter3d\", \"x\": [3.816796123601307e-08, -3.5279835941537385e-08, 4.036933631823558e-08, -1.0047991594319683e-07, -1.0071647693621344e-07, -8.109513771614729e-08, -5.168664785060173e-08, -4.083550919631307e-08, -9.614730345219868e-08, -7.486714537208172e-08, -7.542483615452511e-08, -1.1160189927750253e-07, -9.904141506922315e-08, 7.362927628706828e-11, -1.486679082063347e-07, 1.0792716054197626e-08, -6.510549610538874e-08, -1.5149741727782384e-07, -6.60870469459951e-08, -4.160924937934851e-09, -8.633453774109512e-08, -4.231879557892171e-08, -7.050777384165485e-08, -1.3657336239703e-07, -6.548099662495588e-08, -6.578647315791386e-08, -7.893265774328029e-08, -1.436159369205825e-08, -7.977041605045088e-08, -3.915629420703226e-08, -2.0646416132308332e-08, -9.716734084008749e-09, 1.2864235010567882e-08, 3.1065859218415426e-08, -1.0057564026055843e-07, -6.51750511337923e-08, -1.2426964701717225e-07, -1.0956544826967729e-07, -2.5064037956212815e-08, -7.386846334611619e-08, -1.750383304965908e-08, 3.5189622327180814e-09, -4.249238294562474e-09, -4.906098993728847e-08, -1.9506998683027632e-08, -1.187615623621241e-07, 5.437148065112751e-09, -8.336074586168252e-08, -1.3804030629671615e-07, -4.3369514202140635e-08, -5.639030220550012e-08, -7.334478624443364e-08, 1.571464203209416e-08, -6.51480860369702e-08, -8.429298503642713e-08, -9.959107671875245e-08, -9.578396742426776e-08, 5.0684469954376254e-08, -8.076290924918794e-08, -8.555650055086517e-08, -4.126083297251171e-08, -7.504505106226134e-08, 3.847502316745022e-09, -1.2769734780704312e-07, 2.697579493116109e-09, -6.98965010315078e-08, -9.787972032881953e-08, -4.706731004944231e-08, -5.796176694161659e-08, -4.5862638131666245e-08, -1.4924594893273024e-07, -2.6219295179430446e-08, -6.885952785751215e-08, -6.577443656397008e-08, -1.648919933927573e-08, -6.257454998603862e-08, -1.5445010603798437e-08, -5.4158544315896506e-08, -6.735907476240754e-08, -3.9746907154469824e-11, -6.419598008733374e-08, -1.087461072302176e-07, -6.806580188367661e-08, -8.873949575161078e-09, -7.878293217800092e-08, -1.0564628638576323e-07, -1.2505609880975044e-08, -9.628789143789618e-08, -2.851526836877838e-08, 3.770077139364503e-09, -1.4269721759774256e-07, -6.550188658138723e-08, -8.635468162765392e-08, -1.1108790687330838e-07, -2.4216326721671066e-08, 9.165243675113288e-09, -1.2035657448450365e-07, -5.742622821713894e-09, -1.374588975977531e-07, -7.758509212862919e-08, -8.186925271047585e-08, -7.806784907415931e-08, -4.599069214350493e-08, -5.3676714628636546e-08, -5.76045913192047e-08, -5.384338663816379e-08, -8.293821451843542e-08, -1.1204176075807482e-07, -1.2370516166981815e-08, -9.571288650533916e-09, -9.781397913855017e-09, -8.047441468761463e-08, -1.0312908216292271e-07, -8.403802098655433e-08, -8.27045880669175e-08, -8.253265093571827e-08, -5.750614917587882e-08, -1.1859672355285511e-08, -8.11842753023484e-08, -8.123748074240211e-08, -1.055720346698763e-07, -6.44617585976448e-08, -7.497035880987823e-08, -9.003584722222513e-08, -2.083917394202217e-08, -4.262136599209043e-08, 1.5275475107046077e-08, 3.0647505866454594e-08, -9.081481522343893e-08, -8.735862166986408e-08, -7.929570244868955e-08, -1.0740779998741345e-07, -7.013537128841563e-08, -1.8128430312458477e-08, 3.4586324915153455e-08, -5.819035209242429e-08, -7.015758995976284e-08, -6.213589642811712e-08, -3.2831856344728294e-08, 3.925587321873536e-08, -1.280147632343187e-08, -1.4633238265560067e-07, -8.40730507434273e-08, -7.959317116501552e-08, -8.545288920913663e-08, 4.26243040863028e-08, 4.0679605461946267e-08, -4.255017316268095e-08, -8.625708147746991e-08, -1.4833402062208734e-08, -4.688028454324922e-08, -1.1707290070717136e-07, 2.6501433936232388e-08, -1.0297546149118375e-09, -8.782523508443774e-08, -6.610760294734064e-08, -1.4373370049725054e-07, 3.441864038222775e-08, 2.8948038632847783e-08, -8.055892664060593e-08, -6.901050397800645e-08, -9.748042373303178e-08, -8.410696494820513e-08, 1.824899698021909e-08, -9.583693127979132e-08, -9.300452319394026e-08, -1.4569229733751854e-07, 1.849086395111499e-08, -8.442694365839998e-08, -7.355429687549986e-08, -1.1512157271909018e-07, 1.49022181261671e-08, -1.0694201080241328e-07, -7.343555097349963e-08, 3.900385792121597e-08, 3.036972273662286e-08, -1.4960551197873428e-07, -8.442996346502696e-08, 2.9081910213335505e-08, -6.388433604342936e-08, 2.6449141543594124e-08, -2.1610807365846085e-08, -8.200382239920145e-08, -1.385015764299169e-07, -4.179245394198006e-08, -1.0146162310320506e-07, -6.626672188758675e-08, -8.711425891760882e-08, -9.734901773583715e-09, -3.809814241861886e-09, -8.533295670076768e-08, -1.3722825542572537e-08, -5.9071247449082875e-08, -1.1869898841609938e-08, -7.637849108732553e-08, -3.3424385037506e-08, -9.254610233710991e-08, -5.142814174519117e-08, -1.1356236484516558e-07, -9.286380020512297e-08, -6.460512480543912e-08, 9.738921669111278e-09, 4.875577630514272e-08, -3.9483538216700254e-08, -5.271443015431032e-08, -6.405731767245015e-08, 3.264852210804747e-08, -5.160030269735216e-08, 5.3421167933720426e-08, 2.7754513354238952e-08, -5.6784063673376295e-08, -6.07714909506285e-08, -6.347283232344125e-08, -1.291013091986315e-07, -5.7320537649729886e-08, -7.660172229861928e-08, -7.804096213703815e-08, -1.4350636945437145e-07, -7.858792372417156e-08, -8.536420637028641e-08, -8.73570584758454e-08, -1.199143753183307e-07, -7.327221496211678e-09, -2.0586361504371098e-09, -7.990810502178647e-08, -1.318171882758179e-07, -6.316281542240176e-08, 5.01134671537784e-08, -1.1574898906019371e-07, 3.87363705556254e-08, -1.509085478801353e-07, -1.5128694741406434e-08, -4.570710387952204e-08, -4.7845173156702003e-08, -7.152409153832195e-08, -9.444480042475334e-08, -1.3086194883271673e-07, -8.067699042157983e-08, -6.970276444917545e-08, -1.1734049110145861e-07, -1.2718311381831882e-07, -2.1518167248046893e-09, -2.089755746226274e-08, 1.673316241124212e-08, -1.0, -1.0, -1.0, -1.0, -1.0, -1.0, -1.0, -1.0, -1.0, -1.0, -1.0, -1.0, -1.0, -1.0, -1.0, -1.0, -1.0, -1.0, -1.0, -1.0, -1.0, -1.0, -1.0, -1.0, -1.0, -1.0, -1.0, -1.0, -1.0, -1.0, -1.0, -1.0, -1.0, -1.0, -1.0, -1.0, -1.0, -1.0, -1.0, -1.0, -1.0, -1.0, -1.0, -1.0, -1.0, -1.0, -1.0, -1.0, -1.0, -1.0, -1.0, -1.0, -1.0, -1.0, -1.0, -1.0], \"y\": [0.10432536154985428, -0.061022158712148666, 0.07510111480951309, -0.11434565484523773, 0.24874363839626312, -0.011845293454825878, -0.0005980199784971774, -0.15209345519542694, 0.11514009535312653, -0.054558951407670975, -0.008576280437409878, 0.0776984766125679, 0.024043163284659386, 0.09703535586595535, 0.1610175371170044, -0.20532171428203583, -0.14569643139839172, 0.020368177443742752, 0.18463730812072754, -0.05333190783858299, -0.10781312733888626, -0.11562366038560867, -0.028020773082971573, 0.18091663718223572, -0.023893941193819046, 0.04658711329102516, -0.0013372133253142238, 0.1475028395652771, -0.0015049839857965708, -0.029937975108623505, -0.18556678295135498, 0.21023859083652496, -0.07624197006225586, 0.009108800441026688, -0.08533408492803574, 0.017730288207530975, 0.09646893292665482, 0.07265017181634903, -0.1934455782175064, 0.1050020083785057, -0.02068471349775791, 0.23370561003684998, 0.17873650789260864, 0.003435364691540599, -0.09293592721223831, 0.025508422404527664, -0.08222933858633041, -0.12129206210374832, 0.09274433553218842, -0.0650574266910553, -0.09451664984226227, -0.05758064240217209, -0.07554782927036285, 0.043684862554073334, 0.26941579580307007, 0.06415915489196777, 0.036847103387117386, -0.032259389758110046, -0.09305082261562347, 0.045469168573617935, -0.03818672522902489, -0.015014293603599072, 0.04313270375132561, 0.009868879802525043, -0.15813104808330536, 0.006982606835663319, -0.022229325026273727, -0.034817274659872055, 0.039285656064748764, -0.027182800695300102, 0.24007220566272736, 0.23591192066669464, -0.005567269865423441, -0.012601145543158054, 0.02248528227210045, 0.09663277864456177, 0.14608798921108246, 0.1373196691274643, -0.16090597212314606, -0.2092234045267105, -0.030082983896136284, 0.2950545847415924, 0.011744221672415733, -0.038796983659267426, 0.0005980199784971774, 0.2517988681793213, 0.011325659230351448, 0.028369629755616188, -0.002441406948491931, 0.22526788711547852, 0.0688759833574295, 0.026818515732884407, 0.23698213696479797, -0.0, 0.20768915116786957, 0.1375802457332611, 0.06337344646453857, 0.0893157497048378, 0.230231374502182, -0.1551411896944046, -0.05472047999501228, -0.038743164390325546, -0.08997156471014023, -0.11488507688045502, 0.042630769312381744, 0.20615674555301666, 0.01029456127434969, 0.2132958471775055, 0.03973232954740524, -0.07905807346105576, -0.04503435268998146, 0.09577210247516632, 0.17808660864830017, 0.0005980199784971774, 0.15896837413311005, 0.007176254875957966, -0.07803409546613693, -0.05393233150243759, -0.009003492072224617, 0.02458256110548973, 0.14205479621887207, -0.04545867443084717, -0.02672499418258667, 0.04006704315543175, 0.19807422161102295, 0.22576740384101868, -0.01987343467772007, -0.04970797523856163, -0.1328626275062561, 0.1331709325313568, -0.004670689348131418, 0.0506538562476635, 0.021634092554450035, 0.12565021216869354, -0.19536960124969482, 0.05960214138031006, -0.10702869296073914, -0.06490505486726761, -0.16393545269966125, -0.08854193240404129, 0.2423095703125, 0.007299779914319515, -0.14100560545921326, -0.07120119035243988, -0.07757013291120529, -0.1014256402850151, -0.17463429272174835, 0.02891286462545395, 0.02756606787443161, 0.166293665766716, -0.03163802623748779, -0.11688366532325745, 0.09403417259454727, -0.11808376014232635, 0.16988247632980347, -0.10256075114011765, -0.04247383773326874, 0.1195245310664177, -0.0, 0.045760661363601685, 0.10359591245651245, -0.11091873794794083, -0.01649007387459278, -0.07338549941778183, -0.011241137981414795, -0.038858406245708466, 0.17410622537136078, 0.06949161738157272, -0.011688259430229664, 0.2914873957633972, -0.017649417743086815, -0.06690344214439392, 0.20559079945087433, -0.011799918487668037, 0.13808780908584595, -0.11426203697919846, 0.01923324726521969, -0.09457916021347046, 0.09127889573574066, -0.01898054964840412, 0.04951326176524162, -0.0613817535340786, 0.05032790079712868, 0.26123785972595215, 0.1529533863067627, -0.13803020119667053, 0.2720681428909302, 0.020406188443303108, -0.13451316952705383, 0.027587685734033585, -0.13839058578014374, -0.14714591205120087, 0.0003452669770922512, 0.000845727976411581, 0.016392186284065247, -0.19866853952407837, 0.06537023186683655, 0.08178912848234177, 0.04639345034956932, 0.054982494562864304, 0.02972615510225296, -0.24229466915130615, 0.09213866293430328, -0.19719846546649933, -0.07216902822256088, 0.036441996693611145, 0.0040559712797403336, -0.17998039722442627, 0.02436823397874832, 0.017363406717777252, 0.046294379979372025, 0.13794700801372528, -0.055257298052310944, 0.08341383934020996, -0.007603734731674194, 0.003504079068079591, 0.0, 0.18280896544456482, 0.004070640541613102, 0.002264067530632019, 0.11615357547998428, 0.09561365097761154, 0.12775255739688873, -0.03537444397807121, -0.005315323825925589, 0.01914004608988762, 0.014315175823867321, 0.01987343467772007, -0.0685008242726326, 0.11298032850027084, 0.08852238208055496, -0.2168954610824585, -0.1648104041814804, 0.015375196933746338, -0.11930939555168152, 0.12328517436981201, 0.019220847636461258, 0.001035801018588245, -0.01461190078407526, 0.11202412843704224, 0.21677300333976746, 0.022829929366707802, 0.22017617523670197, -0.19474194943904877, -1.0, -1.0, -1.0, -1.0, -1.0, -1.0, -1.0, -1.0, -1.0, -1.0, -1.0, -1.0, -1.0, -1.0, -1.0, -1.0, -1.0, -1.0, -1.0, -1.0, -1.0, -1.0, -1.0, -1.0, -1.0, -1.0, -1.0, -1.0, -1.0, -1.0, -1.0, -1.0, -1.0, -1.0, -1.0, -1.0, -1.0, -1.0, -1.0, -1.0, -1.0, -1.0, -1.0, -1.0, -1.0, -1.0, -1.0, -1.0, -1.0, -1.0, -1.0, -1.0, -1.0, -1.0, -1.0, -1.0], \"z\": [-0.1479858011007309, -0.0513249896466732, -0.1500626504421234, 0.03258749097585678, 0.023592038080096245, 0.004280833527445793, -0.032929886132478714, -0.040523041039705276, 0.019729068502783775, -0.002014236059039831, -0.002941485960036516, 0.04003668949007988, 0.025689223781228065, -0.10026132315397263, 0.08521236479282379, -0.1024443507194519, -0.010435584001243114, 0.09211376309394836, -0.01918642222881317, -0.0904860645532608, 0.014517586678266525, -0.04030562937259674, -0.008443687111139297, 0.06956976652145386, -0.014886079356074333, -0.016698213294148445, 0.0012242425000295043, -0.08325093984603882, 0.0022778157144784927, -0.047615308314561844, -0.06415515393018723, -0.08994242548942566, -0.11087122559547424, -0.13660579919815063, 0.03148860111832619, -0.01662450097501278, 0.05557585135102272, 0.037596140056848526, -0.058240581303834915, -0.008018668740987778, -0.07498723268508911, -0.10669083148241043, -0.0963665321469307, -0.036346808075904846, -0.06977284699678421, 0.05049477145075798, -0.10135899484157562, 0.011366373859345913, 0.07308480888605118, -0.04105662927031517, -0.02358986996114254, -0.003809543326497078, -0.1144585832953453, -0.017417127266526222, 0.002832423895597458, 0.0252564437687397, 0.021216420456767082, -0.15976890921592712, 0.006900797598063946, 0.008122995495796204, -0.04469171538949013, -0.0032023917883634567, -0.10361798852682114, 0.0622655525803566, -0.09464352577924728, -0.01037539541721344, 0.025722278282046318, -0.03755123168230057, -0.026290439069271088, -0.039326392114162445, 0.08497651666402817, -0.06959503144025803, -0.011270254850387573, -0.014902755618095398, -0.07763464748859406, -0.021980147808790207, -0.0818738341331482, -0.03335028514266014, -0.006898338440805674, -0.08870885521173477, -0.01627987250685692, 0.03347339481115341, -0.012818754650652409, -0.08513110131025314, 0.0009729491430334747, 0.029773812741041183, -0.08226916193962097, 0.022097082808613777, -0.06183870509266853, -0.10692733526229858, 0.07957316935062408, -0.016488315537571907, 0.00563938170671463, 0.041612137109041214, -0.07181573659181595, -0.11243613064289093, 0.05144544318318367, -0.0928254947066307, 0.07011239230632782, 0.005656093824654818, 0.006776883732527494, 0.0014179130084812641, -0.036790769547224045, -0.0261261984705925, -0.026831887662410736, -0.03478095680475235, 0.005876798648387194, 0.038172341883182526, -0.08327742666006088, -0.08274215459823608, -0.08377280831336975, 0.0004708469205070287, 0.027396202087402344, 0.007566457148641348, 0.0020288764499127865, 0.005465474911034107, -0.022860879078507423, -0.08085005730390549, 0.004297768697142601, 0.0033048377372324467, 0.031059877946972847, -0.015394558198750019, -0.002894107485190034, 0.013899886049330235, -0.07591787725687027, -0.04901699721813202, -0.1159435361623764, -0.13409310579299927, 0.02124718204140663, 0.008327490650117397, 0.0017851749435067177, 0.035456568002700806, -0.010528341867029667, -0.0781439021229744, -0.13268901407718658, -0.026560086756944656, -0.005817125551402569, -0.017577137798070908, -0.049974121153354645, -0.1433592289686203, -0.08639568835496902, 0.08595921844244003, 0.01314567681401968, 0.004553609527647495, 0.01216193474829197, -0.14704479277133942, -0.14132903516292572, -0.045268237590789795, 0.009517127647995949, -0.0829717293381691, -0.03789767250418663, 0.05361592397093773, -0.13318485021591187, -0.09179285168647766, 0.008282912895083427, -0.011082921177148819, 0.08436735719442368, -0.14361876249313354, -0.13367338478565216, 0.00184245512355119, -0.014075460843741894, 0.028664013370871544, 0.008217821829020977, -0.11770854145288467, 0.022779028862714767, 0.020179590210318565, 0.08122996240854263, -0.12259582430124283, 0.008458118885755539, -0.01072029396891594, 0.04728523641824722, -0.11377885192632675, 0.03183506056666374, -0.0053284866735339165, -0.1497034877538681, -0.13118314743041992, 0.08974386006593704, 0.011568528600037098, -0.13634471595287323, -0.0170549675822258, -0.1320120394229889, -0.06839082390069962, 0.0035297719296067953, 0.07119730114936829, -0.049088459461927414, 0.03487733006477356, -0.01977449655532837, 0.01080826111137867, -0.08019638061523438, -0.09361553192138672, 0.014608724042773247, -0.07464101910591125, -0.023718569427728653, -0.08273202180862427, -0.002542528323829174, -0.04752432182431221, 0.016367197036743164, -0.03558046743273735, 0.04333113878965378, 0.017040735110640526, -0.017697282135486603, -0.09917742013931274, -0.1609494537115097, -0.040020618587732315, -0.029090309515595436, -0.018577907234430313, -0.13842637836933136, -0.025717701762914658, -0.1650148332118988, -0.13272200524806976, -0.027960799634456635, -0.025087682530283928, -0.016269544139504433, 0.06199035048484802, -0.02565484307706356, -0.0018582503544166684, 5.646049976348877e-05, 0.07833001017570496, 0.0006142408237792552, 0.009176725521683693, 0.008664179593324661, 0.05009540915489197, -0.09166709333658218, -0.09376271814107895, 0.0025748340412974358, 0.06718907505273819, -0.019039984792470932, -0.16074350476264954, 0.04994087666273117, -0.1488795131444931, 0.08951302617788315, -0.0694560632109642, -0.03382882475852966, -0.038241419941186905, -0.0035740213934332132, 0.017422432079911232, 0.06597739458084106, 0.0033297003246843815, -0.009913114830851555, 0.04648406431078911, 0.05724361911416054, -0.0955447107553482, -0.07609271258115768, -0.11040300875902176, -1.0, -1.0, -1.0, -1.0, -1.0, -1.0, -1.0, -1.0, -1.0, -1.0, -1.0, -1.0, -1.0, -1.0, -1.0, -1.0, -1.0, -1.0, -1.0, -1.0, -1.0, -1.0, -1.0, -1.0, -1.0, -1.0, -1.0, -1.0, -1.0, -1.0, -1.0, -1.0, -1.0, -1.0, -1.0, -1.0, -1.0, -1.0, -1.0, -1.0, -1.0, -1.0, -1.0, -1.0, -1.0, -1.0, -1.0, -1.0, -1.0, -1.0, -1.0, -1.0, -1.0, -1.0, -1.0, -1.0]}],\n",
              "                        {\"template\": {\"data\": {\"bar\": [{\"error_x\": {\"color\": \"#2a3f5f\"}, \"error_y\": {\"color\": \"#2a3f5f\"}, \"marker\": {\"line\": {\"color\": \"#E5ECF6\", \"width\": 0.5}}, \"type\": \"bar\"}], \"barpolar\": [{\"marker\": {\"line\": {\"color\": \"#E5ECF6\", \"width\": 0.5}}, \"type\": \"barpolar\"}], \"carpet\": [{\"aaxis\": {\"endlinecolor\": \"#2a3f5f\", \"gridcolor\": \"white\", \"linecolor\": \"white\", \"minorgridcolor\": \"white\", \"startlinecolor\": \"#2a3f5f\"}, \"baxis\": {\"endlinecolor\": \"#2a3f5f\", \"gridcolor\": \"white\", \"linecolor\": \"white\", \"minorgridcolor\": \"white\", \"startlinecolor\": \"#2a3f5f\"}, \"type\": \"carpet\"}], \"choropleth\": [{\"colorbar\": {\"outlinewidth\": 0, \"ticks\": \"\"}, \"type\": \"choropleth\"}], \"contour\": [{\"colorbar\": {\"outlinewidth\": 0, \"ticks\": \"\"}, \"colorscale\": [[0.0, \"#0d0887\"], [0.1111111111111111, \"#46039f\"], [0.2222222222222222, \"#7201a8\"], [0.3333333333333333, \"#9c179e\"], [0.4444444444444444, \"#bd3786\"], [0.5555555555555556, \"#d8576b\"], [0.6666666666666666, \"#ed7953\"], [0.7777777777777778, \"#fb9f3a\"], [0.8888888888888888, \"#fdca26\"], [1.0, \"#f0f921\"]], \"type\": \"contour\"}], \"contourcarpet\": [{\"colorbar\": {\"outlinewidth\": 0, \"ticks\": \"\"}, \"type\": \"contourcarpet\"}], \"heatmap\": [{\"colorbar\": {\"outlinewidth\": 0, \"ticks\": \"\"}, \"colorscale\": [[0.0, \"#0d0887\"], [0.1111111111111111, \"#46039f\"], [0.2222222222222222, \"#7201a8\"], [0.3333333333333333, \"#9c179e\"], [0.4444444444444444, \"#bd3786\"], [0.5555555555555556, \"#d8576b\"], [0.6666666666666666, \"#ed7953\"], [0.7777777777777778, \"#fb9f3a\"], [0.8888888888888888, \"#fdca26\"], [1.0, \"#f0f921\"]], \"type\": \"heatmap\"}], \"heatmapgl\": [{\"colorbar\": {\"outlinewidth\": 0, \"ticks\": \"\"}, \"colorscale\": [[0.0, \"#0d0887\"], [0.1111111111111111, \"#46039f\"], [0.2222222222222222, \"#7201a8\"], [0.3333333333333333, \"#9c179e\"], [0.4444444444444444, \"#bd3786\"], [0.5555555555555556, \"#d8576b\"], [0.6666666666666666, \"#ed7953\"], [0.7777777777777778, \"#fb9f3a\"], [0.8888888888888888, \"#fdca26\"], [1.0, \"#f0f921\"]], \"type\": \"heatmapgl\"}], \"histogram\": [{\"marker\": {\"colorbar\": {\"outlinewidth\": 0, \"ticks\": \"\"}}, \"type\": \"histogram\"}], \"histogram2d\": [{\"colorbar\": {\"outlinewidth\": 0, \"ticks\": \"\"}, \"colorscale\": [[0.0, \"#0d0887\"], [0.1111111111111111, \"#46039f\"], [0.2222222222222222, \"#7201a8\"], [0.3333333333333333, \"#9c179e\"], [0.4444444444444444, \"#bd3786\"], [0.5555555555555556, \"#d8576b\"], [0.6666666666666666, \"#ed7953\"], [0.7777777777777778, \"#fb9f3a\"], [0.8888888888888888, \"#fdca26\"], [1.0, \"#f0f921\"]], \"type\": \"histogram2d\"}], \"histogram2dcontour\": [{\"colorbar\": {\"outlinewidth\": 0, \"ticks\": \"\"}, \"colorscale\": [[0.0, \"#0d0887\"], [0.1111111111111111, \"#46039f\"], [0.2222222222222222, \"#7201a8\"], [0.3333333333333333, \"#9c179e\"], [0.4444444444444444, \"#bd3786\"], [0.5555555555555556, \"#d8576b\"], [0.6666666666666666, \"#ed7953\"], [0.7777777777777778, \"#fb9f3a\"], [0.8888888888888888, \"#fdca26\"], [1.0, \"#f0f921\"]], \"type\": \"histogram2dcontour\"}], \"mesh3d\": [{\"colorbar\": {\"outlinewidth\": 0, \"ticks\": \"\"}, \"type\": \"mesh3d\"}], \"parcoords\": [{\"line\": {\"colorbar\": {\"outlinewidth\": 0, \"ticks\": \"\"}}, \"type\": \"parcoords\"}], \"pie\": [{\"automargin\": true, \"type\": \"pie\"}], \"scatter\": [{\"marker\": {\"colorbar\": {\"outlinewidth\": 0, \"ticks\": \"\"}}, \"type\": \"scatter\"}], \"scatter3d\": [{\"line\": {\"colorbar\": {\"outlinewidth\": 0, \"ticks\": \"\"}}, \"marker\": {\"colorbar\": {\"outlinewidth\": 0, \"ticks\": \"\"}}, \"type\": \"scatter3d\"}], \"scattercarpet\": [{\"marker\": {\"colorbar\": {\"outlinewidth\": 0, \"ticks\": \"\"}}, \"type\": \"scattercarpet\"}], \"scattergeo\": [{\"marker\": {\"colorbar\": {\"outlinewidth\": 0, \"ticks\": \"\"}}, \"type\": \"scattergeo\"}], \"scattergl\": [{\"marker\": {\"colorbar\": {\"outlinewidth\": 0, \"ticks\": \"\"}}, \"type\": \"scattergl\"}], \"scattermapbox\": [{\"marker\": {\"colorbar\": {\"outlinewidth\": 0, \"ticks\": \"\"}}, \"type\": \"scattermapbox\"}], \"scatterpolar\": [{\"marker\": {\"colorbar\": {\"outlinewidth\": 0, \"ticks\": \"\"}}, \"type\": \"scatterpolar\"}], \"scatterpolargl\": [{\"marker\": {\"colorbar\": {\"outlinewidth\": 0, \"ticks\": \"\"}}, \"type\": \"scatterpolargl\"}], \"scatterternary\": [{\"marker\": {\"colorbar\": {\"outlinewidth\": 0, \"ticks\": \"\"}}, \"type\": \"scatterternary\"}], \"surface\": [{\"colorbar\": {\"outlinewidth\": 0, \"ticks\": \"\"}, \"colorscale\": [[0.0, \"#0d0887\"], [0.1111111111111111, \"#46039f\"], [0.2222222222222222, \"#7201a8\"], [0.3333333333333333, \"#9c179e\"], [0.4444444444444444, \"#bd3786\"], [0.5555555555555556, \"#d8576b\"], [0.6666666666666666, \"#ed7953\"], [0.7777777777777778, \"#fb9f3a\"], [0.8888888888888888, \"#fdca26\"], [1.0, \"#f0f921\"]], \"type\": \"surface\"}], \"table\": [{\"cells\": {\"fill\": {\"color\": \"#EBF0F8\"}, \"line\": {\"color\": \"white\"}}, \"header\": {\"fill\": {\"color\": \"#C8D4E3\"}, \"line\": {\"color\": \"white\"}}, \"type\": \"table\"}]}, \"layout\": {\"annotationdefaults\": {\"arrowcolor\": \"#2a3f5f\", \"arrowhead\": 0, \"arrowwidth\": 1}, \"coloraxis\": {\"colorbar\": {\"outlinewidth\": 0, \"ticks\": \"\"}}, \"colorscale\": {\"diverging\": [[0, \"#8e0152\"], [0.1, \"#c51b7d\"], [0.2, \"#de77ae\"], [0.3, \"#f1b6da\"], [0.4, \"#fde0ef\"], [0.5, \"#f7f7f7\"], [0.6, \"#e6f5d0\"], [0.7, \"#b8e186\"], [0.8, \"#7fbc41\"], [0.9, \"#4d9221\"], [1, \"#276419\"]], \"sequential\": [[0.0, \"#0d0887\"], [0.1111111111111111, \"#46039f\"], [0.2222222222222222, \"#7201a8\"], [0.3333333333333333, \"#9c179e\"], [0.4444444444444444, \"#bd3786\"], [0.5555555555555556, \"#d8576b\"], [0.6666666666666666, \"#ed7953\"], [0.7777777777777778, \"#fb9f3a\"], [0.8888888888888888, \"#fdca26\"], [1.0, \"#f0f921\"]], \"sequentialminus\": [[0.0, \"#0d0887\"], [0.1111111111111111, \"#46039f\"], [0.2222222222222222, \"#7201a8\"], [0.3333333333333333, \"#9c179e\"], [0.4444444444444444, \"#bd3786\"], [0.5555555555555556, \"#d8576b\"], [0.6666666666666666, \"#ed7953\"], [0.7777777777777778, \"#fb9f3a\"], [0.8888888888888888, \"#fdca26\"], [1.0, \"#f0f921\"]]}, \"colorway\": [\"#636efa\", \"#EF553B\", \"#00cc96\", \"#ab63fa\", \"#FFA15A\", \"#19d3f3\", \"#FF6692\", \"#B6E880\", \"#FF97FF\", \"#FECB52\"], \"font\": {\"color\": \"#2a3f5f\"}, \"geo\": {\"bgcolor\": \"white\", \"lakecolor\": \"white\", \"landcolor\": \"#E5ECF6\", \"showlakes\": true, \"showland\": true, \"subunitcolor\": \"white\"}, \"hoverlabel\": {\"align\": \"left\"}, \"hovermode\": \"closest\", \"mapbox\": {\"style\": \"light\"}, \"paper_bgcolor\": \"white\", \"plot_bgcolor\": \"#E5ECF6\", \"polar\": {\"angularaxis\": {\"gridcolor\": \"white\", \"linecolor\": \"white\", \"ticks\": \"\"}, \"bgcolor\": \"#E5ECF6\", \"radialaxis\": {\"gridcolor\": \"white\", \"linecolor\": \"white\", \"ticks\": \"\"}}, \"scene\": {\"xaxis\": {\"backgroundcolor\": \"#E5ECF6\", \"gridcolor\": \"white\", \"gridwidth\": 2, \"linecolor\": \"white\", \"showbackground\": true, \"ticks\": \"\", \"zerolinecolor\": \"white\"}, \"yaxis\": {\"backgroundcolor\": \"#E5ECF6\", \"gridcolor\": \"white\", \"gridwidth\": 2, \"linecolor\": \"white\", \"showbackground\": true, \"ticks\": \"\", \"zerolinecolor\": \"white\"}, \"zaxis\": {\"backgroundcolor\": \"#E5ECF6\", \"gridcolor\": \"white\", \"gridwidth\": 2, \"linecolor\": \"white\", \"showbackground\": true, \"ticks\": \"\", \"zerolinecolor\": \"white\"}}, \"shapedefaults\": {\"line\": {\"color\": \"#2a3f5f\"}}, \"ternary\": {\"aaxis\": {\"gridcolor\": \"white\", \"linecolor\": \"white\", \"ticks\": \"\"}, \"baxis\": {\"gridcolor\": \"white\", \"linecolor\": \"white\", \"ticks\": \"\"}, \"bgcolor\": \"#E5ECF6\", \"caxis\": {\"gridcolor\": \"white\", \"linecolor\": \"white\", \"ticks\": \"\"}}, \"title\": {\"x\": 0.05}, \"xaxis\": {\"automargin\": true, \"gridcolor\": \"white\", \"linecolor\": \"white\", \"ticks\": \"\", \"title\": {\"standoff\": 15}, \"zerolinecolor\": \"white\", \"zerolinewidth\": 2}, \"yaxis\": {\"automargin\": true, \"gridcolor\": \"white\", \"linecolor\": \"white\", \"ticks\": \"\", \"title\": {\"standoff\": 15}, \"zerolinecolor\": \"white\", \"zerolinewidth\": 2}}}},\n",
              "                        {\"responsive\": true}\n",
              "                    ).then(function(){\n",
              "                            \n",
              "var gd = document.getElementById('f7de1d77-09b8-4469-ae32-355920683f63');\n",
              "var x = new MutationObserver(function (mutations, observer) {{\n",
              "        var display = window.getComputedStyle(gd).display;\n",
              "        if (!display || display === 'none') {{\n",
              "            console.log([gd, 'removed!']);\n",
              "            Plotly.purge(gd);\n",
              "            observer.disconnect();\n",
              "        }}\n",
              "}});\n",
              "\n",
              "// Listen for the removal of the full notebook cells\n",
              "var notebookContainer = gd.closest('#notebook-container');\n",
              "if (notebookContainer) {{\n",
              "    x.observe(notebookContainer, {childList: true});\n",
              "}}\n",
              "\n",
              "// Listen for the clearing of the current output cell\n",
              "var outputEl = gd.closest('.output');\n",
              "if (outputEl) {{\n",
              "    x.observe(outputEl, {childList: true});\n",
              "}}\n",
              "\n",
              "                        })\n",
              "                };\n",
              "                \n",
              "            </script>\n",
              "        </div>\n",
              "</body>\n",
              "</html>"
            ]
          },
          "metadata": {}
        }
      ],
      "metadata": {
        "colab": {
          "base_uri": "https://localhost:8080/",
          "height": 559
        },
        "id": "MNylnAsqCOFr",
        "outputId": "bc9a8cb7-af7a-4574-eca2-d05eb6ced1ae"
      }
    },
    {
      "cell_type": "markdown",
      "source": [
        "# 3. Modeling\n",
        "<h3>The strategy which seems to work best was to stack probability predictions of 5 XGB models and 5 CatBoost models and adjust threshhold for final prediction. Parameters for models were found using Optuna. </h3>"
      ],
      "metadata": {
        "id": "mTStdW-jh32Z"
      }
    },
    {
      "cell_type": "code",
      "execution_count": null,
      "source": [
        "seed = 73\r\n",
        "kf = KFold(n_splits=5, shuffle=True, random_state=seed)\r\n",
        "\r\n",
        "models = []\r\n",
        "\r\n",
        "for i, (train_index, valid_index) in enumerate(kf.split(X)):\r\n",
        "    \r\n",
        "    X_train, y_train = X[train_index], y[train_index]\r\n",
        "    X_valid, y_valid = X[valid_index], y[valid_index]\r\n",
        "\r\n",
        "    model = XGBClassifier(n_estimators=300,\r\n",
        "                          learning_rate=0.293967999477144,\r\n",
        "                          subsample=0.6198231912457959,\r\n",
        "                          colsample_bytree=0.6392355971709197,\r\n",
        "                          grow_policy='depthwise',\r\n",
        "                          max_depth=10,\r\n",
        "                          reg_lambda=20.320390675035057,\r\n",
        "                          reg_alpha=1.1740272387059525,\r\n",
        "                          min_child_weight=2)\r\n",
        "    model.fit(X_train, y_train)\r\n",
        "    models.append(model)\r\n",
        "\r\n",
        "    cat_params = {'depth': 7, \r\n",
        "                  'learning_rate': 0.1089803195170146, \r\n",
        "                  'random_strength': 67, \r\n",
        "                  'bagging_temperature': 0.04199212199625898, \r\n",
        "                  'od_type': 'IncToDec'}\r\n",
        "   \r\n",
        "    model = CatBoostClassifier(\r\n",
        "            iterations=1000,\r\n",
        "            verbose=0,\r\n",
        "            loss_function=\"Logloss\",\r\n",
        "            eval_metric=\"F1\",\r\n",
        "            l2_leaf_reg=50,\r\n",
        "            random_seed=seed,\r\n",
        "            border_count=64,\r\n",
        "            **cat_params\r\n",
        "        )\r\n",
        "\r\n",
        "    model.fit(X_train, y_train, eval_set=(X_valid, y_valid))\r\n",
        "    models.append(model)\r\n",
        "\r\n",
        "    # model = RandomForestClassifier(max_depth=7, n_estimators=300)\r\n",
        "    # model.fit(X_train, y_train)\r\n",
        "    # models.append(model)"
      ],
      "outputs": [],
      "metadata": {
        "id": "vK6bzsuLm7Cm"
      }
    },
    {
      "cell_type": "code",
      "execution_count": null,
      "source": [
        "# Converting each testing sample into 1D array\r\n",
        "X_test = [sample.flatten() for sample in test_data.tolist()]\r\n",
        "\r\n",
        "predictions = np.array([0. for i in range(len(X_test))])\r\n",
        "for model in models:\r\n",
        "    preds = model.predict_proba(X_test)\r\n",
        "    predictions += np.array([pr[1] for pr in preds])\r\n",
        "    \r\n",
        "predictions = [1 if pr > 0.65 else 0 for pr in predictions]\r\n"
      ],
      "outputs": [],
      "metadata": {
        "id": "ivenfBXjD6NS"
      }
    },
    {
      "cell_type": "markdown",
      "source": [
        "## This solution put us on the 2nd place on private leaderboard on this puzzle with F1 score: 0.920 and accuracy: 0.934"
      ],
      "metadata": {
        "id": "g2ME7TVZHsX5"
      }
    },
    {
      "cell_type": "markdown",
      "source": [
        "## Submitting our Predictions to the system"
      ],
      "metadata": {
        "id": "YG2XctgukLo6"
      }
    },
    {
      "cell_type": "code",
      "execution_count": null,
      "source": [
        "# Converting the predictions array into pandas dataset\r\n",
        "submission = pd.DataFrame({\"label\":predictions})\r\n",
        "# Saving the pandas dataframe\r\n",
        "!rm -rf assets\r\n",
        "!mkdir assets\r\n",
        "submission.to_csv(os.path.join(\"assets\", \"submission.csv\"), index=False)"
      ],
      "outputs": [],
      "metadata": {
        "id": "nMntG6yaka4g"
      }
    },
    {
      "cell_type": "markdown",
      "source": [
        "## \n",
        "**Note : Please save the notebook before submitting it (Ctrl + S)**"
      ],
      "metadata": {
        "id": "AbciPQ8RklRD"
      }
    },
    {
      "cell_type": "code",
      "execution_count": null,
      "source": [
        "!aicrowd notebook submit -c obstacle-prediction -a assets --no-verify"
      ],
      "outputs": [],
      "metadata": {
        "id": "1iXgqvzNkkvZ"
      }
    }
  ]
}